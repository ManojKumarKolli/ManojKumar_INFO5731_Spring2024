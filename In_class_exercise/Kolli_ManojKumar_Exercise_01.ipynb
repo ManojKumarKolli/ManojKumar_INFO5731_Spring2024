{
  "cells": [
    {
      "cell_type": "markdown",
      "metadata": {
        "id": "view-in-github",
        "colab_type": "text"
      },
      "source": [
        "<a href=\"https://colab.research.google.com/github/ManojKumarKolli/ManojKumar_INFO5731_Spring2024/blob/main/In_class_exercise/Kolli_ManojKumar_Exercise_01.ipynb\" target=\"_parent\"><img src=\"https://colab.research.google.com/assets/colab-badge.svg\" alt=\"Open In Colab\"/></a>"
      ]
    },
    {
      "cell_type": "markdown",
      "metadata": {
        "id": "DymRJbxDBCnf"
      },
      "source": [
        "# **This first In-class-exercise cover a variety of fundamental concepts in Python and are designed to help individuals improve their coding skills and problem-solving abilities.**\n",
        "\n",
        "The submission is due on 01/31/2024 11:59 PM. This submission is worth 40 points in total.\n"
      ]
    },
    {
      "cell_type": "markdown",
      "metadata": {
        "id": "FBKvD6O_TY6e"
      },
      "source": [
        "(1) Write a Python program that  prompts the user to input the length and width of a rectangle, and then calculates and displays the area of the rectangle."
      ]
    },
    {
      "cell_type": "code",
      "execution_count": 3,
      "metadata": {
        "id": "cikVKDXdTbzE",
        "colab": {
          "base_uri": "https://localhost:8080/"
        },
        "outputId": "ebfb2baf-12f9-4074-de1e-61f469c0e87b"
      },
      "outputs": [
        {
          "output_type": "stream",
          "name": "stdout",
          "text": [
            "Enter length of a recatangle: 5.5\n",
            "Enter width of a recatangle: 3.5\n",
            "Area of rectangle: 19.25\n"
          ]
        }
      ],
      "source": [
        "# write your answer here\n",
        "length = float(input(\"Enter length of a recatangle: \"))\n",
        "width = float(input(\"Enter width of a recatangle: \"))\n",
        "area = length * width\n",
        "print(f\"Area of rectangle: {area}\")"
      ]
    },
    {
      "cell_type": "markdown",
      "metadata": {
        "id": "E9RqrlwdTfvl"
      },
      "source": [
        "(2) Create a Python program that interactively takes two numerical inputs from the user and swaps their values without utilizing an extra variable."
      ]
    },
    {
      "cell_type": "code",
      "execution_count": 6,
      "metadata": {
        "id": "4XvRknixTh1g",
        "colab": {
          "base_uri": "https://localhost:8080/"
        },
        "outputId": "92cfffc9-7c35-4200-abd5-b41e7632abcb"
      },
      "outputs": [
        {
          "output_type": "stream",
          "name": "stdout",
          "text": [
            "a: 1\n",
            "b: 2\n",
            "\n",
            "before swapping\n",
            "a: 1\n",
            "b: 2\n",
            "\n",
            "after swapping\n",
            "a: 2\n",
            "b: 1\n"
          ]
        }
      ],
      "source": [
        "# write your answer here\n",
        "a = int(input(\"a: \"))\n",
        "b = int(input(\"b: \"))\n",
        "print(\"\\nbefore swapping\")\n",
        "print(\"a:\", a)\n",
        "print(\"b:\", b)\n",
        "a,b = b, a\n",
        "print(\"\\nafter swapping\")\n",
        "print(\"a:\", a)\n",
        "print(\"b:\", b)"
      ]
    },
    {
      "cell_type": "markdown",
      "metadata": {
        "id": "03jb4GZsBkBS"
      },
      "source": [
        "(3) Write a Python script to determine and print the length of a user-input string."
      ]
    },
    {
      "cell_type": "code",
      "execution_count": 8,
      "metadata": {
        "id": "YaGLbSHHB8Ej",
        "colab": {
          "base_uri": "https://localhost:8080/"
        },
        "outputId": "443cb6c8-7b33-4eea-aaff-588517e5ac87"
      },
      "outputs": [
        {
          "output_type": "stream",
          "name": "stdout",
          "text": [
            "Enter a string: python\n",
            "Length of user input: 6\n"
          ]
        }
      ],
      "source": [
        "# write your answer here\n",
        "\n",
        "user_input = input(\"Enter a string: \")\n",
        "print(\"Length of user input:\", len(user_input))"
      ]
    },
    {
      "cell_type": "markdown",
      "metadata": {
        "id": "jJDe71iLB616"
      },
      "source": [
        "(4) Construct a Python program that counts and displays the occurrences of each character in a given string.\n",
        "\n",
        "Sample String: 'openai.ai',\n",
        "\n",
        "Expected Result: {'a': 2, 'i': 2, '.': 1, 'o': 1, 'p': 1, 'e': 1, 'n': 1}"
      ]
    },
    {
      "cell_type": "code",
      "execution_count": 10,
      "metadata": {
        "id": "MtKskTzbCLaU",
        "colab": {
          "base_uri": "https://localhost:8080/"
        },
        "outputId": "7aa6ce2f-e486-4691-c5e4-fba9e76afc7b"
      },
      "outputs": [
        {
          "output_type": "stream",
          "name": "stdout",
          "text": [
            "Enter a stringopenai.ai\n",
            "{'a': 2, 'i': 2, 'o': 1, 'p': 1, 'e': 1, 'n': 1, '.': 1}\n"
          ]
        }
      ],
      "source": [
        "# write your answer here\n",
        "\n",
        "user_string = input(\"Enter a string\")\n",
        "\n",
        "character_count = {}\n",
        "for character in user_string:\n",
        "    if character in character_count:\n",
        "        character_count[character] += 1\n",
        "    else:\n",
        "        character_count[character] = 1\n",
        "character_count = dict(sorted(character_count.items(), key=lambda item: item[1], reverse=True))\n",
        "print(character_count)\n"
      ]
    },
    {
      "cell_type": "markdown",
      "metadata": {
        "id": "55W9AMdXCSpV"
      },
      "source": [
        "(5) Design a Python code to calculate the sum of all elements in a user-provided list."
      ]
    },
    {
      "cell_type": "code",
      "execution_count": 11,
      "metadata": {
        "id": "I57NXsauCec2",
        "colab": {
          "base_uri": "https://localhost:8080/"
        },
        "outputId": "5d70e0f5-e5dc-4ceb-d197-852b9d71d2ab"
      },
      "outputs": [
        {
          "output_type": "stream",
          "name": "stdout",
          "text": [
            "1 2 3 4 5\n",
            "Sum: 15\n"
          ]
        }
      ],
      "source": [
        "# write your answer here\n",
        "\n",
        "lis = list(map(int, input().split()))\n",
        "\n",
        "print(\"Sum:\",sum(lis))"
      ]
    },
    {
      "cell_type": "markdown",
      "metadata": {
        "id": "4ulBZ6yhCi9F"
      },
      "source": [
        "(6) Write a Python program that modifies a given string by replacing all occurrences of its first character with '$', excluding the first character itself.\n",
        "\n",
        "\n",
        "Sample String : 'restart‘,\n",
        "\n",
        "Expected Result : 'resta\\$t'"
      ]
    },
    {
      "cell_type": "code",
      "execution_count": 16,
      "metadata": {
        "id": "Fj0XhwbBCw2o",
        "colab": {
          "base_uri": "https://localhost:8080/"
        },
        "outputId": "b21bb5cd-88d4-41c6-83c1-43ca9b8fad90"
      },
      "outputs": [
        {
          "output_type": "stream",
          "name": "stdout",
          "text": [
            "Enter string: restart‘\n",
            "Modified string: resta$t‘\n"
          ]
        }
      ],
      "source": [
        "# write your answer\n",
        "\n",
        "string = input(\"Enter string: \")\n",
        "string = list(string)\n",
        "for i in range(1, len(string)):\n",
        "  if string[i] == string[0]:\n",
        "    string[i] = '$'\n",
        "\n",
        "\n",
        "print(\"Modified string:\", ''.join(string))\n",
        "\n"
      ]
    },
    {
      "cell_type": "markdown",
      "metadata": {
        "id": "qVXA3q7ET5JI"
      },
      "source": [
        "(7) Write a Python program using a while loop to compute the factorial of a user-supplied number."
      ]
    },
    {
      "cell_type": "code",
      "execution_count": 18,
      "metadata": {
        "id": "Lbt7R6UkT7BA",
        "colab": {
          "base_uri": "https://localhost:8080/"
        },
        "outputId": "f7c4f897-f51d-405a-ddfc-9feb3f8e6325"
      },
      "outputs": [
        {
          "output_type": "stream",
          "name": "stdout",
          "text": [
            "Enter num: 5\n",
            "Factorial of 5 is 120\n"
          ]
        }
      ],
      "source": [
        "# write your answer here\n",
        "num = int(input(\"Enter num: \"))\n",
        "fact = 1\n",
        "i = 1\n",
        "while i <= num:\n",
        "  fact = fact * i\n",
        "  i += 1\n",
        "print(f\"Factorial of {num} is {fact}\")"
      ]
    },
    {
      "cell_type": "markdown",
      "metadata": {
        "id": "6YfbzXMNT--R"
      },
      "source": [
        "(8) Create a program that accepts a list of numbers as input and outputs a new list containing only the even numbers."
      ]
    },
    {
      "cell_type": "code",
      "execution_count": 19,
      "metadata": {
        "id": "54q7wMQPUAKu",
        "colab": {
          "base_uri": "https://localhost:8080/"
        },
        "outputId": "4a47f5fb-ab9c-4e6f-f53d-de2753275ab8"
      },
      "outputs": [
        {
          "output_type": "stream",
          "name": "stdout",
          "text": [
            "1 2 3 4 5 6 7\n",
            "Even list: [2, 4, 6]\n"
          ]
        }
      ],
      "source": [
        "# write your answer here\n",
        "lis = list(map(int, input().split()))\n",
        "even_lis = []\n",
        "\n",
        "for i in lis:\n",
        "  if i % 2 == 0:\n",
        "    even_lis.append(i)\n",
        "\n",
        "print(\"Even list:\", even_lis)"
      ]
    },
    {
      "cell_type": "markdown",
      "metadata": {
        "id": "_bIP7s1MCzue"
      },
      "source": [
        "\n",
        "(9) Design a Python function to check if a number is prime.\n"
      ]
    },
    {
      "cell_type": "code",
      "execution_count": 21,
      "metadata": {
        "id": "w79QilHXD3Mg",
        "colab": {
          "base_uri": "https://localhost:8080/"
        },
        "outputId": "c0ffa6d9-3359-4bf3-f341-d6ce98366451"
      },
      "outputs": [
        {
          "output_type": "stream",
          "name": "stdout",
          "text": [
            "Enter a number: 13\n",
            "Number 13 is a Prime number\n"
          ]
        }
      ],
      "source": [
        "# write your answer here\n",
        "def isprime(n):\n",
        "  for i in range(2, n//2 + 1):\n",
        "    if n % i == 0:\n",
        "      return 0\n",
        "  return 1\n",
        "\n",
        "num = int(input(\"Enter a number: \"))\n",
        "if isprime(num):\n",
        "  print(f\"Number {num} is a Prime number\")\n",
        "else:\n",
        "  print(f\"Number {num} is not a Prime number\")\n"
      ]
    },
    {
      "cell_type": "markdown",
      "metadata": {
        "id": "xCa2bK9aD4Q3"
      },
      "source": [
        "(10) Write a Python program to concatenate following dictionaries to create a new one.\n",
        "\n",
        "Sample Dictionary : dic1={1:10, 2:20}, dic2={3:30, 4:40}, dic3={5:50,6:60},\n",
        "\n",
        "Expected Result : {1: 10, 2: 20, 3: 30, 4: 40, 5: 50, 6: 60}\n"
      ]
    },
    {
      "cell_type": "code",
      "execution_count": 32,
      "metadata": {
        "id": "_z4aLqAbEET1",
        "colab": {
          "base_uri": "https://localhost:8080/"
        },
        "outputId": "48d76429-c8db-4c3c-8609-82028b649b54"
      },
      "outputs": [
        {
          "output_type": "stream",
          "name": "stdout",
          "text": [
            "{1: 10, 2: 20, 3: 30, 4: 40, 5: 50, 6: 60}\n"
          ]
        }
      ],
      "source": [
        "# write your answer here\n",
        "\n",
        "dic1={1:10, 2:20}\n",
        "dic2={3:30, 4:40}\n",
        "dic3={5:50,6:60}\n",
        "\n",
        "res = {**dic1, **dic2, **dic3}\n",
        "\n",
        "print(res)"
      ]
    },
    {
      "cell_type": "markdown",
      "metadata": {
        "id": "bkyZ2xSZUOst"
      },
      "source": [
        "(11) Design a Python function that takes a tuple of integers as input and returns the largest and smallest elements."
      ]
    },
    {
      "cell_type": "code",
      "execution_count": 34,
      "metadata": {
        "id": "3FdLRBKOUQEd",
        "colab": {
          "base_uri": "https://localhost:8080/"
        },
        "outputId": "38c9b122-8284-4cdb-c70a-471f542c1ef9"
      },
      "outputs": [
        {
          "output_type": "stream",
          "name": "stdout",
          "text": [
            "1 2 3 4 5 6 7\n",
            "Largest: 7 Smallest: 1\n"
          ]
        }
      ],
      "source": [
        "# write your answer here\n",
        "\n",
        "def max_min(s):\n",
        "  return max(s), min(s)\n",
        "\n",
        "tup = tuple(map(int, input().split()))\n",
        "largest, smallest = max_min(tup)\n",
        "print(\"Largest:\", largest, \"Smallest:\", smallest)"
      ]
    },
    {
      "cell_type": "markdown",
      "metadata": {
        "id": "O0TVi3gKUTpp"
      },
      "source": [
        "(12) Write a Python program that counts the frequency of each character in a given string and stores it in a dictionary."
      ]
    },
    {
      "cell_type": "code",
      "execution_count": 36,
      "metadata": {
        "id": "lAtfSfZXUU-h",
        "colab": {
          "base_uri": "https://localhost:8080/"
        },
        "outputId": "9a176a7a-ae4a-4ad2-c3c4-6b383cf61c80"
      },
      "outputs": [
        {
          "output_type": "stream",
          "name": "stdout",
          "text": [
            "Enter a string: helloworld\n",
            "{'h': 1, 'e': 1, 'l': 3, 'o': 2, 'w': 1, 'r': 1, 'd': 1}\n"
          ]
        }
      ],
      "source": [
        "# write your answer here\n",
        "def count_characters(string):\n",
        "    char_frequency = {}\n",
        "\n",
        "    for char in string:\n",
        "        if char in char_frequency:\n",
        "            char_frequency[char] += 1\n",
        "        else:\n",
        "            char_frequency[char] = 1\n",
        "\n",
        "    return char_frequency\n",
        "\n",
        "input_string = input(\"Enter a string: \")\n",
        "\n",
        "result = count_characters(input_string)\n",
        "print(result)\n"
      ]
    },
    {
      "cell_type": "markdown",
      "metadata": {
        "id": "0v48Vqa7FrQh"
      },
      "source": [
        "(13) Implement a Python script to identify duplicate elements in a provided array of integers. Return -1 if there are no duplicates."
      ]
    },
    {
      "cell_type": "code",
      "execution_count": 37,
      "metadata": {
        "id": "7WEmgq-DF2P1",
        "colab": {
          "base_uri": "https://localhost:8080/"
        },
        "outputId": "2b903e5a-d63f-478a-a464-d51e4c7c25b7"
      },
      "outputs": [
        {
          "output_type": "stream",
          "name": "stdout",
          "text": [
            "array of elements: 1 2 3 4 1 7 8\n",
            "Duplicate elements: [1]\n"
          ]
        }
      ],
      "source": [
        "# write your answer here\n",
        "def find_duplicates(arr):\n",
        "    unique_elements = set()\n",
        "    duplicates = []\n",
        "    for num in arr:\n",
        "        if num in unique_elements:\n",
        "            duplicates.append(num)\n",
        "        else:\n",
        "            unique_elements.add(num)\n",
        "\n",
        "    if not duplicates:\n",
        "        return -1\n",
        "    else:\n",
        "        return duplicates\n",
        "\n",
        "arr = list(map(int, input(\"array of elements: \").split()))\n",
        "\n",
        "result = find_duplicates(arr)\n",
        "\n",
        "if result == -1:\n",
        "    print(\"No duplicates found.\")\n",
        "else:\n",
        "    print(\"Duplicate elements:\", result)\n"
      ]
    },
    {
      "cell_type": "markdown",
      "metadata": {
        "id": "vD5PYLMuGga_"
      },
      "source": [
        "(14) Write a Python script to find the common elements between two lists."
      ]
    },
    {
      "cell_type": "code",
      "execution_count": 38,
      "metadata": {
        "id": "t0D5kdJUGjjw",
        "colab": {
          "base_uri": "https://localhost:8080/"
        },
        "outputId": "d3be8007-0fee-4eb1-89fd-974919c0d8f4"
      },
      "outputs": [
        {
          "output_type": "stream",
          "name": "stdout",
          "text": [
            "1 2 3 4 5 6\n",
            "5 6 7 8\n",
            "Common elements: 5 6\n"
          ]
        }
      ],
      "source": [
        "# write your answer here\n",
        "lis1 = list(map(int, input(\"lis1: \").split()))\n",
        "lis2 = list(map(int, input(\"lis2: \").split()))\n",
        "\n",
        "common = []\n",
        "for ele in lis1:\n",
        "  if ele in lis2:\n",
        "    common.append(ele)\n",
        "\n",
        "print(\"Common elements:\", *common)"
      ]
    },
    {
      "cell_type": "markdown",
      "metadata": {
        "id": "uHkd-y5VhVWC"
      },
      "source": [
        "(15) Write a Python program to randomly divide the students in this class into six groups for term projects, each group should have at least 4 students but no more than 6 students (including 6).\n",
        "\n",
        "Here is the students list:\n",
        "\n",
        "student_list_spring_2024=[rb0846,\n",
        "ac1964,\n",
        "hc0612,\n",
        "md0912,\n",
        "ad1198,\n",
        "md0894,\n",
        "md0825,\n",
        "vg0598,\n",
        "vg0433,\n",
        "mh1068,\n",
        "yj0173,\n",
        "pk0553,\n",
        "tk0411,\n",
        "srk0204,\n",
        "sk2922,\n",
        "sk2936,\n",
        "mk1302,\n",
        "mk1317,\n",
        "tk0412,\n",
        "vk0656,\n",
        "sm2985,\n",
        "mm2372,\n",
        "un0045,\n",
        "an0892,\n",
        "sn0913,\n",
        "gp0252,\n",
        "ap1484,\n",
        "mr1765,\n",
        "sr1385,\n",
        "sr1335,\n",
        "hs0665,\n",
        "ms2060,\n",
        "gt0217,\n",
        "nt0385,\n",
        "tv0186,\n",
        "sv1394,\n",
        "sv1752,\n",
        "sv1555,\n",
        "sy0594\n",
        "]\n"
      ]
    },
    {
      "cell_type": "code",
      "execution_count": 39,
      "metadata": {
        "id": "3iGbmcOBhTwy",
        "colab": {
          "base_uri": "https://localhost:8080/"
        },
        "outputId": "8bb11b2b-a6a4-4659-edd7-adb8e8f5bf8e"
      },
      "outputs": [
        {
          "output_type": "stream",
          "name": "stdout",
          "text": [
            "Group 1: ad1198, sn0913, tk0412, gp0252, srk0204, mr1765\n",
            "Group 2: sk2936, nt0385, sy0594, vk0656, sv1394, mk1317\n",
            "Group 3: mm2372, yj0173, rb0846, vg0598, sr1335, md0825\n",
            "Group 4: tk0411, tv0186, md0894, sr1385, mh1068, sm2985\n",
            "Group 5: un0045, hc0612, ac1964, pk0553, ap1484, hs0665\n",
            "Group 6: sk2922, mk1302, md0912, vg0433, ms2060, an0892\n"
          ]
        }
      ],
      "source": [
        "# write your answer here\n",
        "import random\n",
        "\n",
        "student_list_spring_2024 = [\"rb0846\", \"ac1964\", \"hc0612\", \"md0912\", \"ad1198\", \"md0894\", \"md0825\", \"vg0598\", \"vg0433\", \"mh1068\", \"yj0173\", \"pk0553\", \"tk0411\", \"srk0204\", \"sk2922\", \"sk2936\", \"mk1302\", \"mk1317\", \"tk0412\", \"vk0656\", \"sm2985\", \"mm2372\", \"un0045\", \"an0892\", \"sn0913\", \"gp0252\", \"ap1484\", \"mr1765\", \"sr1385\", \"sr1335\", \"hs0665\", \"ms2060\", \"gt0217\", \"nt0385\", \"tv0186\", \"sv1394\", \"sv1752\", \"sv1555\", \"sy0594\"]\n",
        "\n",
        "random.shuffle(student_list_spring_2024)\n",
        "\n",
        "group_sizes = [0, 0, 0, 0, 0, 0]\n",
        "\n",
        "groups = {f\"Group {i+1}\": [] for i in range(6)}\n",
        "\n",
        "for student in student_list_spring_2024:\n",
        "    for i in range(6):\n",
        "        if group_sizes[i] < 6:\n",
        "            groups[f\"Group {i+1}\"].append(student)\n",
        "            group_sizes[i] += 1\n",
        "            break\n",
        "\n",
        "for group, members in groups.items():\n",
        "    print(f\"{group}: {', '.join(members)}\")\n"
      ]
    },
    {
      "cell_type": "markdown",
      "metadata": {
        "id": "fmZ9vX20Qs3d"
      },
      "source": [
        "(16) Create a program that takes a positive integer 'n' as input and prints the count of even numbers from 1 to 'n'. Optimize the loop using the break statement."
      ]
    },
    {
      "cell_type": "code",
      "execution_count": 40,
      "metadata": {
        "id": "W8Jw6sWMQs3d",
        "colab": {
          "base_uri": "https://localhost:8080/"
        },
        "outputId": "00c5e0ea-c4d5-4827-8fbb-5ee87cda48f5"
      },
      "outputs": [
        {
          "output_type": "stream",
          "name": "stdout",
          "text": [
            "Enter a positive integer 'n': 7\n",
            "Count of even numbers from 1 to 7 is: 3\n"
          ]
        }
      ],
      "source": [
        "# write your answer here\n",
        "def count_even_numbers(n):\n",
        "    count = 0\n",
        "\n",
        "    for i in range(1, n+1):\n",
        "        if i % 2 == 0:\n",
        "            count += 1\n",
        "        if i == n:\n",
        "            break\n",
        "\n",
        "    return count\n",
        "\n",
        "n = int(input(\"Enter a positive integer 'n': \"))\n",
        "\n",
        "result = count_even_numbers(n)\n",
        "print(f\"Count of even numbers from 1 to {n} is: {result}\")\n"
      ]
    },
    {
      "cell_type": "markdown",
      "metadata": {
        "id": "hvq4APMhQs3d"
      },
      "source": [
        "(17) Develop a Python function called 'count_vowels' that takes a string as input and returns the count of vowels (both lowercase and uppercase) present in the string, ignoring spaces and non-alphabetic characters."
      ]
    },
    {
      "cell_type": "code",
      "execution_count": 41,
      "metadata": {
        "id": "ZnoxhSglQs3d",
        "colab": {
          "base_uri": "https://localhost:8080/"
        },
        "outputId": "4f05cd16-9165-4cf5-f139-a1f11ec9480b"
      },
      "outputs": [
        {
          "output_type": "stream",
          "name": "stdout",
          "text": [
            "string: hello world! This is python exercise\n",
            "Count of vowels: 10\n"
          ]
        }
      ],
      "source": [
        "# write your answer here\n",
        "def count_vowels(string):\n",
        "  count = 0\n",
        "  vowels = ['a', 'e', 'i', 'o', 'u', 'A', 'E', 'I', 'O', 'U']\n",
        "  for char in string:\n",
        "    if char in vowels:\n",
        "      count += 1\n",
        "  return count\n",
        "\n",
        "string = input(\"string: \")\n",
        "print(\"Count of vowels:\",count_vowels(string))"
      ]
    },
    {
      "cell_type": "markdown",
      "metadata": {
        "id": "55FWoSJPVVM6"
      },
      "source": [
        "(18) Create a custom exception named ValueTooSmallError in Python. Write a program that takes user input for an age, and if the entered age is less than 18, raise the ValueTooSmallError with an appropriate error message."
      ]
    },
    {
      "cell_type": "code",
      "execution_count": 42,
      "metadata": {
        "id": "hwtr1wZmVX5A",
        "colab": {
          "base_uri": "https://localhost:8080/"
        },
        "outputId": "e0acde05-ac0b-4a67-d54d-dacf7709c143"
      },
      "outputs": [
        {
          "output_type": "stream",
          "name": "stdout",
          "text": [
            "Enter your age: 7\n",
            "Error: Age must be 18 or higher\n"
          ]
        }
      ],
      "source": [
        "# write your answer here\n",
        "class ValueTooSmallError(Exception):\n",
        "    def __init__(self, message=\"Age is too small\"):\n",
        "        self.message = message\n",
        "        super().__init__(self.message)\n",
        "\n",
        "try:\n",
        "    age = int(input(\"Enter your age: \"))\n",
        "    if age < 18:\n",
        "        raise ValueTooSmallError(\"Age must be 18 or higher\")\n",
        "except ValueTooSmallError as e:\n",
        "    print(f\"Error: {e}\")\n",
        "\n"
      ]
    },
    {
      "cell_type": "markdown",
      "metadata": {
        "id": "Q9ecagcaVazW"
      },
      "source": [
        "(19) Develop a script that reverses a given string without using built-in reverse functions."
      ]
    },
    {
      "cell_type": "code",
      "execution_count": 43,
      "metadata": {
        "id": "gycgckoAVZjR",
        "colab": {
          "base_uri": "https://localhost:8080/"
        },
        "outputId": "ecee768c-c872-43c3-a76d-481697a0e236"
      },
      "outputs": [
        {
          "output_type": "stream",
          "name": "stdout",
          "text": [
            "string: hello\n",
            "Reverse String: olleh\n"
          ]
        }
      ],
      "source": [
        "# write your answer here\n",
        "string = input(\"string: \")\n",
        "reverse_string = \"\"\n",
        "for i in range(len(string)-1, -1, -1):\n",
        "  reverse_string += string[i]\n",
        "\n",
        "print(\"Reverse String:\", reverse_string)"
      ]
    },
    {
      "cell_type": "markdown",
      "metadata": {
        "id": "ZFG6RibifMLu"
      },
      "source": [
        "(20) Implement a Python script to generate a random password of a specified length."
      ]
    },
    {
      "cell_type": "code",
      "execution_count": 44,
      "metadata": {
        "id": "BFVrkEi9fNiD",
        "colab": {
          "base_uri": "https://localhost:8080/"
        },
        "outputId": "cc30c190-7943-4635-88d3-c837b8cd8494"
      },
      "outputs": [
        {
          "output_type": "stream",
          "name": "stdout",
          "text": [
            "Enter the desired password length: 10\n",
            "Password: R/n?6(GQ*=\n"
          ]
        }
      ],
      "source": [
        "# write your answer here\n",
        "import random\n",
        "import string\n",
        "\n",
        "def generate_random_password(length):\n",
        "    characters = string.ascii_letters + string.digits + string.punctuation\n",
        "\n",
        "    password = ''.join(random.choice(characters) for _ in range(length))\n",
        "\n",
        "    return password\n",
        "\n",
        "password_length = int(input(\"Enter the desired password length: \"))\n",
        "random_password = generate_random_password(password_length)\n",
        "print(\"Password:\", random_password)\n"
      ]
    },
    {
      "cell_type": "markdown",
      "metadata": {
        "id": "6SmvS7nSfbj8"
      },
      "source": [
        "# Try these questions:"
      ]
    },
    {
      "cell_type": "markdown",
      "metadata": {
        "id": "cboAr5pEWUf5"
      },
      "source": [
        "(21) Define a base class called 'Vehicle' with attributes make and model. Create a derived class Car that inherits from Vehicle and has an additional attribute 'num_doors'. Demonstrate an example of creating an instance of the 'Car' class and accessing its attributes."
      ]
    },
    {
      "cell_type": "code",
      "execution_count": 46,
      "metadata": {
        "id": "phs9gciMWWAW",
        "colab": {
          "base_uri": "https://localhost:8080/"
        },
        "outputId": "56fcbf10-9eba-4b6d-d33a-2c3953a9dd72"
      },
      "outputs": [
        {
          "output_type": "stream",
          "name": "stdout",
          "text": [
            "Toyota Innova 6\n"
          ]
        }
      ],
      "source": [
        "# write your answer here\n",
        "class Vehicle:\n",
        "    def __init__(self, make, model):\n",
        "        self.make = make\n",
        "        self.model = model\n",
        "\n",
        "class Car(Vehicle):\n",
        "    def __init__(self, make, model, num_doors):\n",
        "        super().__init__(make, model)\n",
        "        self.num_doors = num_doors\n",
        "\n",
        "car_instance = Car(\"Toyota\", \"Innova\", 6)\n",
        "\n",
        "print(car_instance.make, car_instance.model, car_instance.num_doors)\n"
      ]
    },
    {
      "cell_type": "markdown",
      "metadata": {
        "id": "J8HHefNtePwd"
      },
      "source": [
        "(22) Create a class called 'Shape' with a method calculate_area(). Implement two derived classes 'Circle' and 'Rectangle' that inherit from Shape and override the calculate_area() method. Demonstrate polymorphism by creating instances of both derived classes and calling the calculate_area() method."
      ]
    },
    {
      "cell_type": "code",
      "execution_count": 47,
      "metadata": {
        "id": "btnMmUZDeRhS",
        "colab": {
          "base_uri": "https://localhost:8080/"
        },
        "outputId": "3dea00bf-ad95-4357-cd61-f44dca193358"
      },
      "outputs": [
        {
          "output_type": "stream",
          "name": "stdout",
          "text": [
            "78.5 50\n"
          ]
        }
      ],
      "source": [
        "# write your answer here\n",
        "class Shape:\n",
        "    def calculate_area(self):\n",
        "        pass\n",
        "\n",
        "class Circle(Shape):\n",
        "    def __init__(self, radius):\n",
        "        self.radius = radius\n",
        "\n",
        "    def calculate_area(self):\n",
        "        return 3.14 * (self.radius ** 2)\n",
        "class Rectangle(Shape):\n",
        "    def __init__(self, length, width):\n",
        "        self.length = length\n",
        "        self.width = width\n",
        "\n",
        "    def calculate_area(self):\n",
        "        return self.length * self.width\n",
        "\n",
        "circle = Circle(5)\n",
        "rectangle = Rectangle(10, 5)\n",
        "\n",
        "print(circle.calculate_area(), rectangle.calculate_area())\n"
      ]
    },
    {
      "cell_type": "markdown",
      "metadata": {
        "id": "z0oqEAlTeMUS"
      },
      "source": [
        "(23) Write a Python program that prompts the user to enter two numbers and perform a division operation. Handle exceptions for both zero division and invalid input (non-numeric input). Display appropriate error messages for each type of exception and ensure the program does not crash due to these errors."
      ]
    },
    {
      "cell_type": "code",
      "execution_count": 49,
      "metadata": {
        "id": "yjdc1zM1eMAs",
        "colab": {
          "base_uri": "https://localhost:8080/"
        },
        "outputId": "15494644-e0cb-47ad-bf5b-49f7f35e47ad"
      },
      "outputs": [
        {
          "output_type": "stream",
          "name": "stdout",
          "text": [
            "Enter the first number: 1\n",
            "Enter the second number: a\n",
            "Error: Please enter valid numeric input.\n"
          ]
        }
      ],
      "source": [
        "# write your answer here\n",
        "try:\n",
        "    num1 = float(input(\"Enter the first number: \"))\n",
        "    num2 = float(input(\"Enter the second number: \"))\n",
        "    result = num1 / num2\n",
        "    print(f\"The result of dividing {num1} by {num2} is {result}\")\n",
        "except ZeroDivisionError:\n",
        "    print(\"Error: Cannot divide by zero.\")\n",
        "except ValueError:\n",
        "    print(\"Error: Please enter valid numeric input.\")"
      ]
    },
    {
      "cell_type": "markdown",
      "metadata": {
        "id": "sZOhks1dXWEe"
      },
      "source": [
        "# Mandatory Question"
      ]
    },
    {
      "cell_type": "markdown",
      "metadata": {
        "id": "eqmHVEwaWhbV"
      },
      "source": [
        "**Important:**\n",
        "Reflecting on the first three lectures and the exercises you've completed, please provide feedback on your learning experience. Share your thoughts on whether the material covered was clear, the exercises were helpful, and if you feel more confident in applying Python programming concepts. Additionally, mention any specific areas where you would like more clarification or topics you would like to explore further in future lectures. Your feedback is valuable in shaping the course for an effective learning journey."
      ]
    },
    {
      "cell_type": "markdown",
      "metadata": {
        "id": "HlpXOT9wXQAd"
      },
      "source": [
        "Write your response here."
      ]
    },
    {
      "cell_type": "code",
      "execution_count": null,
      "metadata": {
        "id": "Dq2aOZU7XIke"
      },
      "outputs": [],
      "source": [
        "The way we are working on quizzes and exercises giving more oppurtunity to learn."
      ]
    }
  ],
  "metadata": {
    "colab": {
      "provenance": [],
      "include_colab_link": true
    },
    "kernelspec": {
      "display_name": "Python 3 (ipykernel)",
      "language": "python",
      "name": "python3"
    },
    "language_info": {
      "codemirror_mode": {
        "name": "ipython",
        "version": 3
      },
      "file_extension": ".py",
      "mimetype": "text/x-python",
      "name": "python",
      "nbconvert_exporter": "python",
      "pygments_lexer": "ipython3",
      "version": "3.9.12"
    }
  },
  "nbformat": 4,
  "nbformat_minor": 0
}
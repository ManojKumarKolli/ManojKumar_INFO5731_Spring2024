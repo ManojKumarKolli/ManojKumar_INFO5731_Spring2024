{
  "cells": [
    {
      "cell_type": "markdown",
      "metadata": {
        "id": "view-in-github",
        "colab_type": "text"
      },
      "source": [
        "<a href=\"https://colab.research.google.com/github/ManojKumarKolli/ManojKumar_INFO5731_Spring2024/blob/main/In_class_exercise/Kolli_Manoj_Kumar_Exercise_05.ipynb\" target=\"_parent\"><img src=\"https://colab.research.google.com/assets/colab-badge.svg\" alt=\"Open In Colab\"/></a>"
      ]
    },
    {
      "cell_type": "markdown",
      "metadata": {
        "id": "VdRwkJBn70nX"
      },
      "source": [
        "# **INFO5731 In-class Exercise 5**\n",
        "\n",
        "**This exercise aims to provide a comprehensive learning experience in text analysis and machine learning techniques, focusing on both text classification and clustering tasks.**"
      ]
    },
    {
      "cell_type": "markdown",
      "source": [
        "***Please use the text corpus you collected in your last in-class-exercise for this exercise. Perform the following tasks***.\n",
        "\n",
        "**Expectations**:\n",
        "*   Students are expected to complete the exercise during lecture period to meet the active participation criteria of the course.\n",
        "*   Use the provided .*ipynb* document to write your code & respond to the questions. Avoid generating a new file.\n",
        "*   Write complete answers and run all the cells before submission.\n",
        "*   Make sure the submission is \"clean\"; *i.e.*, no unnecessary code cells.\n",
        "*   Once finished, allow shared rights from top right corner (*see Canvas for details*).\n",
        "\n",
        "**Total points**: 40\n",
        "\n",
        "**Deadline**: This in-class exercise is due at the end of the day tomorrow, at 11:59 PM.\n",
        "\n",
        "**Late submissions will have a penalty of 10% of the marks for each day of late submission, and no requests will be answered. Manage your time accordingly.**\n"
      ],
      "metadata": {
        "id": "TU-pLW33lpcS"
      }
    },
    {
      "cell_type": "markdown",
      "metadata": {
        "id": "ARqm7u6B70ne"
      },
      "source": [
        "## **Question 1 (20 Points)**\n",
        "\n",
        "The purpose of the question is to practice different machine learning algorithms for **text classification** as well as the performance evaluation. In addition, you are requried to conduct **10 fold cross validation** (https://scikit-learn.org/stable/modules/cross_validation.html) in the training.\n",
        "\n",
        "\n",
        "\n",
        "The dataset can be download from canvas. The dataset contains two files train data and test data for sentiment analysis in IMDB review, it has two categories: 1 represents positive and 0 represents negative. You need to split the training data into training and validate data (80% for training and 20% for validation, https://towardsdatascience.com/train-test-split-and-cross-validation-in-python-80b61beca4b6) and perform 10 fold cross validation while training the classifier. The final trained model was final evaluated on the test data.\n"
      ]
    },
    {
      "cell_type": "markdown",
      "source": [
        "**Algorithms:**\n",
        "\n",
        "*   MultinominalNB\n",
        "*   SVM\n",
        "*   KNN\n",
        "*   Decision tree\n",
        "*   Random Forest\n",
        "*   XGBoost\n",
        "*   Word2Vec\n",
        "*   BERT\n",
        "\n",
        "**Evaluation measurement:**\n",
        "\n",
        "\n",
        "*   Accuracy\n",
        "*   Recall\n",
        "*   Precison\n",
        "*   F-1 score\n"
      ],
      "metadata": {
        "id": "loi8Sh7UE6ha"
      }
    },
    {
      "cell_type": "code",
      "source": [
        "from google.colab import drive\n",
        "drive.mount('/content/drive')"
      ],
      "metadata": {
        "colab": {
          "base_uri": "https://localhost:8080/"
        },
        "id": "jmKztgIyAXVe",
        "outputId": "32836614-bfa3-40d2-a0c0-c691f62df1fa"
      },
      "execution_count": null,
      "outputs": [
        {
          "output_type": "stream",
          "name": "stdout",
          "text": [
            "Mounted at /content/drive\n"
          ]
        }
      ]
    },
    {
      "cell_type": "code",
      "source": [
        "# Write your code here\n",
        "import numpy as np\n",
        "import pandas as pd\n",
        "from sklearn.model_selection import train_test_split, StratifiedKFold, cross_val_score\n",
        "from sklearn.feature_extraction.text import TfidfVectorizer\n",
        "from sklearn.metrics import accuracy_score, recall_score, precision_score, f1_score\n",
        "from sklearn.naive_bayes import MultinomialNB\n",
        "from sklearn.svm import SVC\n",
        "from sklearn.neighbors import KNeighborsClassifier\n",
        "from sklearn.tree import DecisionTreeClassifier\n",
        "from sklearn.ensemble import RandomForestClassifier\n",
        "from sklearn.pipeline import make_pipeline\n",
        "import xgboost as xgb\n",
        "\n",
        "# Function to load data from file\n",
        "def load_data(file_path):\n",
        "    with open(file_path, 'r', encoding='utf-8') as file:\n",
        "        data = [line.strip().split(' ', 1) for line in file.readlines()]\n",
        "    labels = [int(line[0]) for line in data if len(line) > 1]  # Convert labels explicitly to int\n",
        "    reviews = [line[1] if len(line) > 1 else '' for line in data]\n",
        "    return labels, reviews\n",
        "\n",
        "# Load training and testing data\n",
        "train_labels, train_reviews = load_data('/content/drive/MyDrive/5731/stsa-train.txt')\n",
        "test_labels, test_reviews = load_data('/content/drive/MyDrive/5731/stsa-test.txt')\n",
        "\n",
        "# Convert lists into pandas Series\n",
        "train_labels = pd.Series(train_labels)\n",
        "train_reviews = pd.Series(train_reviews)\n",
        "test_labels = pd.Series(test_labels)\n",
        "test_reviews = pd.Series(test_reviews)\n",
        "\n",
        "# Split the training data\n",
        "X_train, X_val, y_train, y_val = train_test_split(train_reviews, train_labels, test_size=0.2, random_state=42)\n",
        "\n",
        "# Initialize and fit the TfidfVectorizer\n",
        "vectorizer = TfidfVectorizer(max_features=5000, stop_words=None, min_df=1)\n",
        "X_train_vec = vectorizer.fit_transform(X_train)\n",
        "X_val_vec = vectorizer.transform(X_val)\n",
        "X_test_vec = vectorizer.transform(test_reviews)"
      ],
      "metadata": {
        "id": "rVPN1c6BS2xx"
      },
      "execution_count": null,
      "outputs": []
    },
    {
      "cell_type": "code",
      "source": [
        "# Function to evaluate model performance\n",
        "def evaluate_model(model, X_test, y_test):\n",
        "    predictions = model.predict(X_test)\n",
        "    return {\n",
        "        'Accuracy': accuracy_score(y_test, predictions),\n",
        "        'Recall': recall_score(y_test, predictions, average='weighted'),  # Specify average method for multi-class\n",
        "        'Precision': precision_score(y_test, predictions, average='weighted'),  # Specify average method\n",
        "        'F1 Score': f1_score(y_test, predictions, average='weighted')  # Specify average method\n",
        "    }\n",
        "\n",
        "# Define a function to perform training and cross-validation\n",
        "def train_and_evaluate(model_name, model, X_train, y_train, X_test, y_test):\n",
        "    cv = StratifiedKFold(n_splits=10)\n",
        "    cv_scores = cross_val_score(model, X_train, y_train, cv=cv, scoring='accuracy')\n",
        "    model.fit(X_train, y_train)\n",
        "    print(f'CV Accuracy for {model_name}: {np.mean(cv_scores):.4f}')\n",
        "    return evaluate_model(model, X_test, y_test)\n",
        "\n",
        "# Train and evaluate models\n",
        "results = {}\n",
        "models = {\n",
        "    'MultinomialNB': MultinomialNB(),\n",
        "    'SVM': SVC(kernel='linear'),\n",
        "    'KNN': KNeighborsClassifier(),\n",
        "    'Decision Tree': DecisionTreeClassifier(),\n",
        "    'Random Forest': RandomForestClassifier(n_estimators=100),\n",
        "    'XGBoost': xgb.XGBClassifier(use_label_encoder=False, eval_metric='logloss')\n",
        "}\n",
        "\n",
        "for name, model in models.items():\n",
        "    results[name] = train_and_evaluate(name, model, X_train_vec, y_train, X_test_vec, test_labels)"
      ],
      "metadata": {
        "colab": {
          "base_uri": "https://localhost:8080/"
        },
        "id": "k3UQV4lVFOS4",
        "outputId": "e21b013f-78cb-4e0c-b80e-d8e26e0ffa05"
      },
      "execution_count": null,
      "outputs": [
        {
          "output_type": "stream",
          "name": "stdout",
          "text": [
            "CV Accuracy for MultinomialNB: 0.7831\n",
            "CV Accuracy for SVM: 0.7682\n",
            "CV Accuracy for KNN: 0.6385\n",
            "CV Accuracy for Decision Tree: 0.5948\n",
            "CV Accuracy for Random Forest: 0.6958\n",
            "CV Accuracy for XGBoost: 0.6907\n"
          ]
        }
      ]
    },
    {
      "cell_type": "code",
      "execution_count": null,
      "metadata": {
        "id": "VAZj4PHB70nf",
        "colab": {
          "base_uri": "https://localhost:8080/"
        },
        "outputId": "c91d5537-3818-418d-c8af-6c7eb18e5615"
      },
      "outputs": [
        {
          "output_type": "stream",
          "name": "stdout",
          "text": [
            "CV Accuracy for Word2Vec: 0.7686\n"
          ]
        }
      ],
      "source": [
        "# Write your code here\n",
        "from gensim.models import Word2Vec\n",
        "from sklearn.linear_model import LogisticRegression\n",
        "\n",
        "# Function to train Word2Vec and transform texts into averaged feature vectors\n",
        "def word2vec_feature_transform(texts, vector_size=100, window=5, min_count=1, workers=4):\n",
        "    # Tokenize texts\n",
        "    tokenized_texts = [text.split() for text in texts]\n",
        "    # Train Word2Vec model\n",
        "    model = Word2Vec(sentences=tokenized_texts, vector_size=vector_size, window=window, min_count=min_count, workers=workers)\n",
        "    # Transform each text into the average of its word vectors\n",
        "    text_vectors = np.array([\n",
        "        np.mean([model.wv[word] for word in text if word in model.wv] or [np.zeros(vector_size)], axis=0)\n",
        "        for text in tokenized_texts\n",
        "    ])\n",
        "    return text_vectors\n",
        "\n",
        "# Transform training and test data\n",
        "X_train_w2v = word2vec_feature_transform(X_train)\n",
        "X_test_w2v = word2vec_feature_transform(test_reviews)\n",
        "\n",
        "# Train and evaluate a simple classifier on Word2Vec features\n",
        "lr_model = LogisticRegression()\n",
        "results['Word2Vec'] = train_and_evaluate('Word2Vec', lr_model, X_train_vec, y_train, X_test_vec, test_labels)"
      ]
    },
    {
      "cell_type": "code",
      "source": [
        "# Print results for all models including BERT\n",
        "for model, metrics in results.items():\n",
        "    print(f\"{model} Results:\")\n",
        "    for metric, value in metrics.items():\n",
        "        print(f\"  {metric}: {value:.4f}\")"
      ],
      "metadata": {
        "colab": {
          "base_uri": "https://localhost:8080/"
        },
        "id": "E1kh0-2rSAaT",
        "outputId": "82cc5a7e-0034-4523-9a59-80f6a88c81cc"
      },
      "execution_count": null,
      "outputs": [
        {
          "output_type": "stream",
          "name": "stdout",
          "text": [
            "MultinomialNB Results:\n",
            "  Accuracy: 0.8034\n",
            "  Recall: 0.8034\n",
            "  Precision: 0.8062\n",
            "  F1 Score: 0.8030\n",
            "SVM Results:\n",
            "  Accuracy: 0.7946\n",
            "  Recall: 0.7946\n",
            "  Precision: 0.7953\n",
            "  F1 Score: 0.7945\n",
            "KNN Results:\n",
            "  Accuracy: 0.6606\n",
            "  Recall: 0.6606\n",
            "  Precision: 0.6890\n",
            "  F1 Score: 0.6472\n",
            "Decision Tree Results:\n",
            "  Accuracy: 0.6101\n",
            "  Recall: 0.6101\n",
            "  Precision: 0.6108\n",
            "  F1 Score: 0.6095\n",
            "Random Forest Results:\n",
            "  Accuracy: 0.7232\n",
            "  Recall: 0.7232\n",
            "  Precision: 0.7242\n",
            "  F1 Score: 0.7229\n",
            "XGBoost Results:\n",
            "  Accuracy: 0.7139\n",
            "  Recall: 0.7139\n",
            "  Precision: 0.7207\n",
            "  F1 Score: 0.7117\n",
            "Word2Vec Results:\n",
            "  Accuracy: 0.7825\n",
            "  Recall: 0.7825\n",
            "  Precision: 0.7843\n",
            "  F1 Score: 0.7822\n"
          ]
        }
      ]
    },
    {
      "cell_type": "code",
      "source": [
        "!pip install accelerate -U"
      ],
      "metadata": {
        "colab": {
          "base_uri": "https://localhost:8080/"
        },
        "id": "ZmJCy34fRPMt",
        "outputId": "50d78bac-3dee-4bf1-f265-1b45554a861d"
      },
      "execution_count": null,
      "outputs": [
        {
          "output_type": "stream",
          "name": "stdout",
          "text": [
            "Collecting accelerate\n",
            "  Downloading accelerate-0.29.3-py3-none-any.whl (297 kB)\n",
            "\u001b[?25l     \u001b[90m━━━━━━━━━━━━━━━━━━━━━━━━━━━━━━━━━━━━━━━━\u001b[0m \u001b[32m0.0/297.6 kB\u001b[0m \u001b[31m?\u001b[0m eta \u001b[36m-:--:--\u001b[0m\r\u001b[2K     \u001b[91m━━━━━━━━━\u001b[0m\u001b[91m╸\u001b[0m\u001b[90m━━━━━━━━━━━━━━━━━━━━━━━━━━━━━━\u001b[0m \u001b[32m71.7/297.6 kB\u001b[0m \u001b[31m1.9 MB/s\u001b[0m eta \u001b[36m0:00:01\u001b[0m\r\u001b[2K     \u001b[90m━━━━━━━━━━━━━━━━━━━━━━━━━━━━━━━━━━━━━━━━\u001b[0m \u001b[32m297.6/297.6 kB\u001b[0m \u001b[31m4.1 MB/s\u001b[0m eta \u001b[36m0:00:00\u001b[0m\n",
            "\u001b[?25hRequirement already satisfied: numpy>=1.17 in /usr/local/lib/python3.10/dist-packages (from accelerate) (1.25.2)\n",
            "Requirement already satisfied: packaging>=20.0 in /usr/local/lib/python3.10/dist-packages (from accelerate) (24.0)\n",
            "Requirement already satisfied: psutil in /usr/local/lib/python3.10/dist-packages (from accelerate) (5.9.5)\n",
            "Requirement already satisfied: pyyaml in /usr/local/lib/python3.10/dist-packages (from accelerate) (6.0.1)\n",
            "Requirement already satisfied: torch>=1.10.0 in /usr/local/lib/python3.10/dist-packages (from accelerate) (2.2.1+cu121)\n",
            "Requirement already satisfied: huggingface-hub in /usr/local/lib/python3.10/dist-packages (from accelerate) (0.20.3)\n",
            "Requirement already satisfied: safetensors>=0.3.1 in /usr/local/lib/python3.10/dist-packages (from accelerate) (0.4.3)\n",
            "Requirement already satisfied: filelock in /usr/local/lib/python3.10/dist-packages (from torch>=1.10.0->accelerate) (3.13.4)\n",
            "Requirement already satisfied: typing-extensions>=4.8.0 in /usr/local/lib/python3.10/dist-packages (from torch>=1.10.0->accelerate) (4.11.0)\n",
            "Requirement already satisfied: sympy in /usr/local/lib/python3.10/dist-packages (from torch>=1.10.0->accelerate) (1.12)\n",
            "Requirement already satisfied: networkx in /usr/local/lib/python3.10/dist-packages (from torch>=1.10.0->accelerate) (3.3)\n",
            "Requirement already satisfied: jinja2 in /usr/local/lib/python3.10/dist-packages (from torch>=1.10.0->accelerate) (3.1.3)\n",
            "Requirement already satisfied: fsspec in /usr/local/lib/python3.10/dist-packages (from torch>=1.10.0->accelerate) (2023.6.0)\n",
            "Collecting nvidia-cuda-nvrtc-cu12==12.1.105 (from torch>=1.10.0->accelerate)\n",
            "  Using cached nvidia_cuda_nvrtc_cu12-12.1.105-py3-none-manylinux1_x86_64.whl (23.7 MB)\n",
            "Collecting nvidia-cuda-runtime-cu12==12.1.105 (from torch>=1.10.0->accelerate)\n",
            "  Using cached nvidia_cuda_runtime_cu12-12.1.105-py3-none-manylinux1_x86_64.whl (823 kB)\n",
            "Collecting nvidia-cuda-cupti-cu12==12.1.105 (from torch>=1.10.0->accelerate)\n",
            "  Using cached nvidia_cuda_cupti_cu12-12.1.105-py3-none-manylinux1_x86_64.whl (14.1 MB)\n",
            "Collecting nvidia-cudnn-cu12==8.9.2.26 (from torch>=1.10.0->accelerate)\n",
            "  Using cached nvidia_cudnn_cu12-8.9.2.26-py3-none-manylinux1_x86_64.whl (731.7 MB)\n",
            "Collecting nvidia-cublas-cu12==12.1.3.1 (from torch>=1.10.0->accelerate)\n",
            "  Using cached nvidia_cublas_cu12-12.1.3.1-py3-none-manylinux1_x86_64.whl (410.6 MB)\n",
            "Collecting nvidia-cufft-cu12==11.0.2.54 (from torch>=1.10.0->accelerate)\n",
            "  Using cached nvidia_cufft_cu12-11.0.2.54-py3-none-manylinux1_x86_64.whl (121.6 MB)\n",
            "Collecting nvidia-curand-cu12==10.3.2.106 (from torch>=1.10.0->accelerate)\n",
            "  Using cached nvidia_curand_cu12-10.3.2.106-py3-none-manylinux1_x86_64.whl (56.5 MB)\n",
            "Collecting nvidia-cusolver-cu12==11.4.5.107 (from torch>=1.10.0->accelerate)\n",
            "  Using cached nvidia_cusolver_cu12-11.4.5.107-py3-none-manylinux1_x86_64.whl (124.2 MB)\n",
            "Collecting nvidia-cusparse-cu12==12.1.0.106 (from torch>=1.10.0->accelerate)\n",
            "  Using cached nvidia_cusparse_cu12-12.1.0.106-py3-none-manylinux1_x86_64.whl (196.0 MB)\n",
            "Collecting nvidia-nccl-cu12==2.19.3 (from torch>=1.10.0->accelerate)\n",
            "  Using cached nvidia_nccl_cu12-2.19.3-py3-none-manylinux1_x86_64.whl (166.0 MB)\n",
            "Collecting nvidia-nvtx-cu12==12.1.105 (from torch>=1.10.0->accelerate)\n",
            "  Using cached nvidia_nvtx_cu12-12.1.105-py3-none-manylinux1_x86_64.whl (99 kB)\n",
            "Requirement already satisfied: triton==2.2.0 in /usr/local/lib/python3.10/dist-packages (from torch>=1.10.0->accelerate) (2.2.0)\n",
            "Collecting nvidia-nvjitlink-cu12 (from nvidia-cusolver-cu12==11.4.5.107->torch>=1.10.0->accelerate)\n",
            "  Using cached nvidia_nvjitlink_cu12-12.4.127-py3-none-manylinux2014_x86_64.whl (21.1 MB)\n",
            "Requirement already satisfied: requests in /usr/local/lib/python3.10/dist-packages (from huggingface-hub->accelerate) (2.31.0)\n",
            "Requirement already satisfied: tqdm>=4.42.1 in /usr/local/lib/python3.10/dist-packages (from huggingface-hub->accelerate) (4.66.2)\n",
            "Requirement already satisfied: MarkupSafe>=2.0 in /usr/local/lib/python3.10/dist-packages (from jinja2->torch>=1.10.0->accelerate) (2.1.5)\n",
            "Requirement already satisfied: charset-normalizer<4,>=2 in /usr/local/lib/python3.10/dist-packages (from requests->huggingface-hub->accelerate) (3.3.2)\n",
            "Requirement already satisfied: idna<4,>=2.5 in /usr/local/lib/python3.10/dist-packages (from requests->huggingface-hub->accelerate) (3.7)\n",
            "Requirement already satisfied: urllib3<3,>=1.21.1 in /usr/local/lib/python3.10/dist-packages (from requests->huggingface-hub->accelerate) (2.0.7)\n",
            "Requirement already satisfied: certifi>=2017.4.17 in /usr/local/lib/python3.10/dist-packages (from requests->huggingface-hub->accelerate) (2024.2.2)\n",
            "Requirement already satisfied: mpmath>=0.19 in /usr/local/lib/python3.10/dist-packages (from sympy->torch>=1.10.0->accelerate) (1.3.0)\n",
            "Installing collected packages: nvidia-nvtx-cu12, nvidia-nvjitlink-cu12, nvidia-nccl-cu12, nvidia-curand-cu12, nvidia-cufft-cu12, nvidia-cuda-runtime-cu12, nvidia-cuda-nvrtc-cu12, nvidia-cuda-cupti-cu12, nvidia-cublas-cu12, nvidia-cusparse-cu12, nvidia-cudnn-cu12, nvidia-cusolver-cu12, accelerate\n",
            "Successfully installed accelerate-0.29.3 nvidia-cublas-cu12-12.1.3.1 nvidia-cuda-cupti-cu12-12.1.105 nvidia-cuda-nvrtc-cu12-12.1.105 nvidia-cuda-runtime-cu12-12.1.105 nvidia-cudnn-cu12-8.9.2.26 nvidia-cufft-cu12-11.0.2.54 nvidia-curand-cu12-10.3.2.106 nvidia-cusolver-cu12-11.4.5.107 nvidia-cusparse-cu12-12.1.0.106 nvidia-nccl-cu12-2.19.3 nvidia-nvjitlink-cu12-12.4.127 nvidia-nvtx-cu12-12.1.105\n"
          ]
        }
      ]
    },
    {
      "cell_type": "code",
      "source": [
        "from transformers import BertTokenizer, BertForSequenceClassification, TrainingArguments, Trainer\n",
        "from torch.utils.data import Dataset\n",
        "import torch\n",
        "\n",
        "# Initialize tokenizer and model\n",
        "tokenizer = BertTokenizer.from_pretrained('bert-base-uncased')\n",
        "model = BertForSequenceClassification.from_pretrained('bert-base-uncased', num_labels=2)\n",
        "\n",
        "# Tokenization function for BERT\n",
        "def tokenize_for_bert(reviews):\n",
        "    # Ensure input is a list of strings\n",
        "    reviews_list = reviews if isinstance(reviews, list) else reviews.tolist()\n",
        "    return tokenizer(reviews_list, padding=True, truncation=True, max_length=128, return_tensors='pt')\n",
        "\n",
        "# Prepare datasets\n",
        "train_encodings = tokenize_for_bert(train_reviews)  # Ensure train_reviews is a list or a Series\n",
        "test_encodings = tokenize_for_bert(test_reviews)  # Ensure test_reviews is a list or a Series\n",
        "\n",
        "\n",
        "# Convert labels to tensor format\n",
        "train_labels_tensor = torch.tensor(train_labels)\n",
        "test_labels_tensor = torch.tensor(test_labels)\n",
        "\n",
        "\n",
        "# Define a PyTorch dataset class\n",
        "class TextDataset(Dataset):\n",
        "    def __init__(self, texts, labels, tokenizer, max_length=128):\n",
        "        self.encodings = tokenizer(texts, truncation=True, padding=True, max_length=max_length)\n",
        "        self.labels = labels\n",
        "\n",
        "    def __getitem__(self, idx):\n",
        "        item = {key: torch.tensor(val[idx]) for key, val in self.encodings.items()}\n",
        "        item['labels'] = torch.tensor(self.labels[idx])\n",
        "        return item\n",
        "\n",
        "    def __len__(self):\n",
        "        return len(self.labels)\n",
        "\n",
        "# Prepare datasets\n",
        "train_dataset = TextDataset(train_reviews.tolist(), train_labels.tolist(), tokenizer)\n",
        "test_dataset = TextDataset(test_reviews.tolist(), test_labels.tolist(), tokenizer)\n",
        "\n",
        "# Set up training arguments\n",
        "training_args = TrainingArguments(\n",
        "    output_dir='./results',\n",
        "    num_train_epochs=1,  # Ensure at least one full pass over the data\n",
        "    per_device_train_batch_size=8,\n",
        "    per_device_eval_batch_size=16,\n",
        "    warmup_steps=50,  # Reduced to better fit smaller datasets\n",
        "    weight_decay=0.01,\n",
        "    logging_dir='./logs',\n",
        "    evaluation_strategy=\"epoch\"  # Change to evaluate at the end of each epoch\n",
        ")\n",
        "\n",
        "# Initialize Trainer\n",
        "trainer = Trainer(\n",
        "    model=model,\n",
        "    args=training_args,\n",
        "    train_dataset=train_dataset,\n",
        "    eval_dataset=test_dataset\n",
        ")\n",
        "\n",
        "# Train and evaluate\n",
        "trainer.train()\n",
        "\n"
      ],
      "metadata": {
        "colab": {
          "base_uri": "https://localhost:8080/",
          "height": 151
        },
        "id": "kUp2TjKGLkvG",
        "outputId": "7453cbee-c9e1-4d43-e0bc-6e5bf8dd3c41"
      },
      "execution_count": null,
      "outputs": [
        {
          "metadata": {
            "tags": null
          },
          "name": "stderr",
          "output_type": "stream",
          "text": [
            "Some weights of BertForSequenceClassification were not initialized from the model checkpoint at bert-base-uncased and are newly initialized: ['classifier.bias', 'classifier.weight']\n",
            "You should probably TRAIN this model on a down-stream task to be able to use it for predictions and inference.\n"
          ]
        },
        {
          "data": {
            "text/html": [
              "\n",
              "    <div>\n",
              "      \n",
              "      <progress value='866' max='865' style='width:300px; height:20px; vertical-align: middle;'></progress>\n",
              "      [865/865 1:47:42, Epoch 1/1]\n",
              "    </div>\n",
              "    <table border=\"1\" class=\"dataframe\">\n",
              "  <thead>\n",
              " <tr style=\"text-align: left;\">\n",
              "      <th>Epoch</th>\n",
              "      <th>Training Loss</th>\n",
              "      <th>Validation Loss</th>\n",
              "    </tr>\n",
              "  </thead>\n",
              "  <tbody>\n",
              "  </tbody>\n",
              "</table><p>\n",
              "    <div>\n",
              "      \n",
              "      <progress value='101' max='114' style='width:300px; height:20px; vertical-align: middle;'></progress>\n",
              "      [101/114 06:22 < 00:49, 0.26 it/s]\n",
              "    </div>\n",
              "    "
            ],
            "text/plain": [
              "<IPython.core.display.HTML object>"
            ]
          },
          "metadata": {},
          "output_type": "display_data"
        }
      ]
    },
    {
      "cell_type": "code",
      "source": [
        "# Evaluate the model on the test set\n",
        "evaluation_results = trainer.evaluate()\n",
        "results['BERT'] = {\n",
        "    'Accuracy': evaluation_results.get('eval_accuracy', 0),\n",
        "    'Recall': evaluation_results.get('eval_recall', 0),\n",
        "    'Precision': evaluation_results.get('eval_precision', 0),\n",
        "    'F1 Score': evaluation_results.get('eval_f1', 0)\n",
        "}"
      ],
      "metadata": {
        "colab": {
          "base_uri": "https://localhost:8080/",
          "height": 37
        },
        "id": "_ybSImWgLkz7",
        "outputId": "a78cbd2f-c499-48ff-cb5d-89324a6e9abc"
      },
      "execution_count": 25,
      "outputs": [
        {
          "output_type": "display_data",
          "data": {
            "text/plain": [
              "<IPython.core.display.HTML object>"
            ],
            "text/html": [
              "\n",
              "    <div>\n",
              "      \n",
              "      <progress value='114' max='114' style='width:300px; height:20px; vertical-align: middle;'></progress>\n",
              "      [114/114 07:18]\n",
              "    </div>\n",
              "    "
            ]
          },
          "metadata": {}
        }
      ]
    },
    {
      "cell_type": "code",
      "source": [
        "# Get predictions for test dataset\n",
        "predictions = trainer.predict(test_dataset)\n",
        "\n",
        "# Extract predicted labels and convert them to numpy array\n",
        "predicted_labels = predictions.predictions.argmax(axis=1)\n",
        "true_labels = test_labels_tensor.numpy()\n",
        "\n",
        "# Calculate evaluation metrics\n",
        "accuracy = accuracy_score(true_labels, predicted_labels)\n",
        "precision = precision_score(true_labels, predicted_labels, zero_division=0)  # Set zero_division=0 to handle cases where precision is undefined\n",
        "recall = recall_score(true_labels, predicted_labels, zero_division=0)  # Set zero_division=0 to handle cases where recall is undefined\n",
        "f1 = f1_score(true_labels, predicted_labels, zero_division=0)  # Set zero_division=0 to handle cases where F1-score is undefined\n",
        "\n",
        "# Print evaluation metrics\n",
        "print(f\"Accuracy: {accuracy}\")\n",
        "print(f\"Precision: {precision}\")\n",
        "print(f\"Recall: {recall}\")\n",
        "print(f\"F1-score: {f1}\")"
      ],
      "metadata": {
        "colab": {
          "base_uri": "https://localhost:8080/",
          "height": 88
        },
        "id": "hJGXSZO96eft",
        "outputId": "7889a414-dbf2-47de-cda5-9f3504e913ba"
      },
      "execution_count": 24,
      "outputs": [
        {
          "output_type": "display_data",
          "data": {
            "text/plain": [
              "<IPython.core.display.HTML object>"
            ],
            "text/html": []
          },
          "metadata": {}
        },
        {
          "output_type": "stream",
          "name": "stdout",
          "text": [
            "Accuracy: 0.914332784184514\n",
            "Precision: 0.9044038668098818\n",
            "Recall: 0.9262926292629263\n",
            "F1-score: 0.9152173913043478\n"
          ]
        }
      ]
    },
    {
      "cell_type": "markdown",
      "metadata": {
        "id": "dEUjBE6C70nf"
      },
      "source": [
        "## **Question 2 (20 Points)**\n",
        "\n",
        "The purpose of the question is to practice different machine learning algorithms for **text clustering**.\n",
        "\n",
        "Please downlad the dataset by using the following link.  https://www.kaggle.com/PromptCloudHQ/amazon-reviews-unlocked-mobile-phones\n",
        "(You can also use different text data which you want)\n",
        "\n",
        "**Apply the listed clustering methods to the dataset:**\n",
        "*   K-means\n",
        "*   DBSCAN\n",
        "*   Hierarchical clustering\n",
        "*   Word2Vec\n",
        "*   BERT\n",
        "\n",
        "You can refer to of the codes from  the follwing link below.\n",
        "https://www.kaggle.com/karthik3890/text-clustering"
      ]
    },
    {
      "cell_type": "code",
      "execution_count": 15,
      "metadata": {
        "id": "EoQX5s4O70nf",
        "colab": {
          "base_uri": "https://localhost:8080/"
        },
        "outputId": "4f185ba3-b942-44c6-ebde-ab68e1b83b05"
      },
      "outputs": [
        {
          "output_type": "stream",
          "name": "stderr",
          "text": [
            "/usr/local/lib/python3.10/dist-packages/sklearn/cluster/_kmeans.py:870: FutureWarning: The default value of `n_init` will change from 10 to 'auto' in 1.4. Set the value of `n_init` explicitly to suppress the warning\n",
            "  warnings.warn(\n"
          ]
        }
      ],
      "source": [
        "# Write your code here\n",
        "import pandas as pd\n",
        "from sklearn.feature_extraction.text import TfidfVectorizer\n",
        "from sklearn.cluster import KMeans, DBSCAN\n",
        "from scipy.cluster.hierarchy import dendrogram, linkage\n",
        "from gensim.models import Word2Vec\n",
        "from transformers import BertModel, BertTokenizer\n",
        "import torch\n",
        "from sklearn.decomposition import PCA\n",
        "import matplotlib.pyplot as plt\n",
        "from sklearn.feature_extraction.text import TfidfVectorizer\n",
        "from sklearn.cluster import KMeans\n",
        "\n",
        "\n",
        "# Load dataset\n",
        "df = pd.read_csv('/content/drive/MyDrive/5731/Amazon_Unlocked_Mobile.csv')\n",
        "\n",
        "# Sample a subset of the data\n",
        "df_sample = df.sample(n=1000, random_state=42)\n",
        "\n",
        "# Ensure no NaN values in the 'Reviews' column\n",
        "df_sample['Reviews'] = df_sample['Reviews'].fillna('')\n",
        "\n",
        "# Preprocessing and vectorization\n",
        "vectorizer = TfidfVectorizer(max_features=5000)\n",
        "X_tfidf = vectorizer.fit_transform(df_sample['Reviews'])\n",
        "\n",
        "# Apply K-means clustering\n",
        "kmeans = KMeans(n_clusters=5, random_state=42)\n",
        "kmeans_labels = kmeans.fit_predict(X_tfidf)\n",
        "df_sample['kmeans_labels'] = kmeans_labels"
      ]
    },
    {
      "cell_type": "code",
      "source": [
        "from sklearn.cluster import DBSCAN\n",
        "\n",
        "# DBSCAN doesn't require the number of clusters to be specified\n",
        "dbscan = DBSCAN(eps=0.5, min_samples=5)\n",
        "dbscan_labels = dbscan.fit_predict(X_tfidf)\n",
        "df_sample['dbscan_labels'] = dbscan_labels\n"
      ],
      "metadata": {
        "id": "p_kTZ5rn-ebj"
      },
      "execution_count": 16,
      "outputs": []
    },
    {
      "cell_type": "code",
      "source": [
        "from scipy.cluster.hierarchy import dendrogram, linkage, fcluster, inconsistent\n",
        "\n",
        "# Hierarchical clustering\n",
        "Z = linkage(X_tfidf.toarray(), method='ward')\n",
        "\n",
        "# Plot the full dendrogram\n",
        "plt.figure(figsize=(25, 10))\n",
        "dendrogram(Z)\n",
        "plt.title('Hierarchical Clustering Dendrogram')\n",
        "plt.xlabel('Sample index')\n",
        "plt.ylabel('Distance')\n",
        "plt.show()\n",
        "\n",
        "# Determine the number of clusters using the inconsistency method\n",
        "depth = 5  # This is an example; you may need to adjust it\n",
        "incons = inconsistent(Z, depth)\n",
        "threshold = incons[-1, 3]  # Use the third quartile of the last merge distance\n",
        "print(f\"Suggested threshold for clusters (inconsistency method): {threshold}\")\n",
        "\n",
        "hierarchical_labels = fcluster(Z, threshold, criterion='distance')\n",
        "\n",
        "# Verify the number of clusters created\n",
        "num_clusters = len(set(hierarchical_labels))\n",
        "print(f\"Number of clusters formed using inconsistency method: {num_clusters}\")"
      ],
      "metadata": {
        "colab": {
          "base_uri": "https://localhost:8080/",
          "height": 500
        },
        "id": "ASLUnSM0IYdw",
        "outputId": "a2317f69-d78d-44cb-b38f-c1b2d6daa20f"
      },
      "execution_count": 17,
      "outputs": [
        {
          "output_type": "display_data",
          "data": {
            "text/plain": [
              "<Figure size 2500x1000 with 1 Axes>"
            ],
            "image/png": "[encoded data removed]"
          },
          "metadata": {}
        },
        {
          "output_type": "stream",
          "name": "stdout",
          "text": [
            "Suggested threshold for clusters (inconsistency method): 2.160867493475134\n",
            "Number of clusters formed using inconsistency method: 33\n"
          ]
        }
      ]
    },
    {
      "cell_type": "code",
      "source": [
        "import numpy as np\n",
        "import gensim\n",
        "\n",
        "\n",
        "# Train a Word2Vec model\n",
        "word2vec_model = gensim.models.Word2Vec(df_sample['Reviews'].apply(lambda x: x.split()), vector_size=100, window=5, min_count=1, workers=4)\n",
        "\n",
        "# Ensure the model is trained\n",
        "word2vec_model.train(df_sample['Reviews'].apply(lambda x: x.split()), total_examples=word2vec_model.corpus_count, epochs=word2vec_model.epochs)\n",
        "\n",
        "# Define a function to convert reviews to word vectors, handling out-of-vocabulary words\n",
        "def get_word_vectors(model, sentence):\n",
        "    vectors = [model.wv[word] for word in sentence if word in model.wv]\n",
        "    if vectors:\n",
        "        return np.mean(vectors, axis=0)\n",
        "    else:\n",
        "        return np.zeros(model.vector_size)\n",
        "\n",
        "# Infer vector for each review\n",
        "word_vectors = np.array([get_word_vectors(word2vec_model, text.split()) for text in df_sample['Reviews']])\n",
        "\n",
        "# Use K-means for clustering on Word2Vec features\n",
        "from sklearn.cluster import KMeans\n",
        "\n",
        "kmeans_word2vec = KMeans(n_clusters=5, random_state=42)\n",
        "word2vec_labels = kmeans_word2vec.fit_predict(word_vectors)\n",
        "df_sample['word2vec_labels'] = word2vec_labels\n"
      ],
      "metadata": {
        "colab": {
          "base_uri": "https://localhost:8080/"
        },
        "id": "hW3wFotx_FfR",
        "outputId": "9460536b-b110-443c-e6e4-bfc3857d22ac"
      },
      "execution_count": 18,
      "outputs": [
        {
          "output_type": "stream",
          "name": "stderr",
          "text": [
            "WARNING:gensim.models.word2vec:Effective 'alpha' higher than previous training cycles\n",
            "/usr/local/lib/python3.10/dist-packages/sklearn/cluster/_kmeans.py:870: FutureWarning: The default value of `n_init` will change from 10 to 'auto' in 1.4. Set the value of `n_init` explicitly to suppress the warning\n",
            "  warnings.warn(\n"
          ]
        }
      ]
    },
    {
      "cell_type": "code",
      "source": [
        "from transformers import BertTokenizer, BertModel\n",
        "from torch.utils.data import DataLoader, TensorDataset\n",
        "import torch\n",
        "import numpy as np\n",
        "from sklearn.cluster import KMeans\n",
        "\n",
        "# Initialize tokenizer and model\n",
        "tokenizer = BertTokenizer.from_pretrained('bert-base-uncased')\n",
        "model = BertModel.from_pretrained('bert-base-uncased')\n",
        "\n",
        "# Tokenize and encode sentences in BERT format\n",
        "inputs = tokenizer(df_sample['Reviews'].tolist(), return_tensors=\"pt\", padding=True, truncation=True, max_length=128)\n",
        "\n",
        "# Create a torch dataset\n",
        "dataset = TensorDataset(inputs['input_ids'], inputs['attention_mask'])\n",
        "dataloader = DataLoader(dataset, batch_size=32)\n",
        "\n",
        "# Move model to GPU if available\n",
        "device = torch.device('cuda' if torch.cuda.is_available() else 'cpu')\n",
        "model.to(device)\n",
        "\n",
        "# Extracting embeddings in batches\n",
        "bert_embeddings = []\n",
        "with torch.no_grad():\n",
        "    for batch in dataloader:\n",
        "        input_ids, attention_mask = [b.to(device) for b in batch]\n",
        "        outputs = model(input_ids, attention_mask=attention_mask)\n",
        "        embeddings = outputs.last_hidden_state.mean(dim=1)\n",
        "        bert_embeddings.append(embeddings.cpu().numpy())\n",
        "\n",
        "# Convert the list of numpy arrays into a single numpy array\n",
        "bert_embeddings = np.concatenate(bert_embeddings, axis=0)\n",
        "\n",
        "# Clustering with K-means on BERT features\n",
        "kmeans_bert = KMeans(n_clusters=5, random_state=42)\n",
        "bert_labels = kmeans_bert.fit_predict(bert_embeddings)\n",
        "df_sample['bert_labels'] = bert_labels\n"
      ],
      "metadata": {
        "id": "-BiiTRGL_HrZ",
        "colab": {
          "base_uri": "https://localhost:8080/"
        },
        "outputId": "38f5e6e1-35cd-4893-8d4a-c13e9ee92024"
      },
      "execution_count": 19,
      "outputs": [
        {
          "output_type": "stream",
          "name": "stderr",
          "text": [
            "/usr/local/lib/python3.10/dist-packages/sklearn/cluster/_kmeans.py:870: FutureWarning: The default value of `n_init` will change from 10 to 'auto' in 1.4. Set the value of `n_init` explicitly to suppress the warning\n",
            "  warnings.warn(\n"
          ]
        }
      ]
    },
    {
      "cell_type": "code",
      "source": [
        "from sklearn.metrics import silhouette_score\n",
        "\n",
        "# Evaluate K-means\n",
        "kmeans_silhouette = silhouette_score(X_tfidf, kmeans_labels)\n",
        "print(f\"K-means Silhouette Score: {kmeans_silhouette:.3f}\")\n",
        "\n",
        "# It is not advisable to use silhouette score for DBSCAN in cases where many points are classified as noise (-1 labels)\n",
        "if np.unique(dbscan_labels).size > 1:\n",
        "    dbscan_silhouette = silhouette_score(X_tfidf, dbscan_labels)\n",
        "    print(f\"DBSCAN Silhouette Score: {dbscan_silhouette:.3f}\")\n",
        "else:\n",
        "    print(\"DBSCAN Silhouette Score: Undefined (Only one cluster)\")\n",
        "\n",
        "#Hierarchical Clustering\n",
        "hierarchical_silhouette = silhouette_score(X_tfidf.toarray(), hierarchical_labels)\n",
        "print(f\"Hierarchical Clustering Silhouette Score: {hierarchical_silhouette:.3f}\")\n",
        "\n",
        "# Word2Vec K-means\n",
        "word2vec_kmeans_silhouette = silhouette_score(word_vectors, word2vec_labels)\n",
        "print(f\"Word2Vec K-means Silhouette Score: {word2vec_kmeans_silhouette:.3f}\")\n",
        "\n",
        "# BERT K-means\n",
        "bert_kmeans_silhouette = silhouette_score(bert_embeddings, bert_labels)\n",
        "print(f\"BERT K-means Silhouette Score: {bert_kmeans_silhouette:.3f}\")\n"
      ],
      "metadata": {
        "colab": {
          "base_uri": "https://localhost:8080/"
        },
        "id": "PkobmJfBGaG4",
        "outputId": "b558d782-b13e-4229-e4c8-baf9656a20d3"
      },
      "execution_count": 20,
      "outputs": [
        {
          "output_type": "stream",
          "name": "stdout",
          "text": [
            "K-means Silhouette Score: 0.041\n",
            "DBSCAN Silhouette Score: 0.013\n",
            "Hierarchical Clustering Silhouette Score: 0.051\n",
            "Word2Vec K-means Silhouette Score: 0.544\n",
            "BERT K-means Silhouette Score: 0.117\n"
          ]
        }
      ]
    },
    {
      "cell_type": "markdown",
      "source": [
        "**In one paragraph, please compare the results of K-means, DBSCAN, Hierarchical clustering, Word2Vec, and BERT.**"
      ],
      "metadata": {
        "id": "tRijW2aLGONl"
      }
    },
    {
      "cell_type": "markdown",
      "source": [
        "**Write your response here:**\n",
        "\n",
        ".K-means clustering on the dataset resulted in a Silhouette Score of 0.041, indicating very poor cluster separation. This low score suggests that the clusters formed by K-means using TF-IDF vectors are not well-defined and have substantial overlap. K-means assumes clusters of similar density and size, which may not be true for natural language data, leading to suboptimal performance in this context.\n",
        "\n",
        ".DBSCAN yielded a Silhouette Score of 0.013, which is even lower than that of K-means. This extremely low score could be due to DBSCAN's sensitivity to parameter settings (especially eps and min_samples), and its tendency to treat sparse regions as noise. In text clustering, where data points (documents) can be very sparse and unevenly distributed, DBSCAN might struggle to find meaningful clusters without careful tuning of its parameters.\n",
        "\n",
        ".Hierarchical clustering achieved a Silhouette Score of 0.051, which is slightly better than K-means but still indicates poor clustering quality. Hierarchical clustering's approach to build a tree of clusters and then cutting it to form groups of documents might not capture the natural clusters effectively if the cut-off threshold (max_d) is not set appropriately, as seen in the challenges of forming more than one cluster.\n",
        "\n",
        ".Word2Vec combined with K-means clustering significantly outperformed the other methods with a Silhouette Score of 0.544. This higher score suggests that the vector representations generated by Word2Vec provide a much better basis for clustering, capturing more nuanced semantic similarities between texts that are not captured by simple TF-IDF vectors. This method appears to form well-separated and coherent clusters.\n",
        "\n",
        "\n",
        ".BERT with K-means resulted in a Silhouette Score of 0.117, which is considerably better than K-means and DBSCAN with TF-IDF and hierarchical clustering but not as effective as Word2Vec. This indicates that while BERT's embeddings capture deep contextual relationships within the text, leading to better clustering than traditional methods, they might still include noise or irrelevant information for clustering tasks compared to the more targeted Word2Vec embeddings.\n",
        "\n",
        "\n",
        "\n",
        "\n",
        "Word2Vec with K-means shows the best clustering performance among the tested methods, suggesting its effectiveness in capturing useful semantic information for clustering. BERT, despite its sophisticated contextual understanding, falls short in clustering quality compared to Word2Vec but does better than more traditional methods like K-means and DBSCAN with TF-IDF vectors and hierarchical clustering. The poor performance of K-means, DBSCAN, and hierarchical clustering on TF-IDF vectors highlights the challenges of using sparse, high-dimensional data for clustering without leveraging more advanced techniques for dimensionality reduction or semantic embedding.\n",
        "\n",
        "\n"
      ],
      "metadata": {
        "id": "pIYCj5qyGfSL"
      }
    },
    {
      "cell_type": "markdown",
      "source": [
        "# Mandatory Question"
      ],
      "metadata": {
        "id": "VEs-OoDEhTW4"
      }
    },
    {
      "cell_type": "markdown",
      "source": [
        "**Important: Reflective Feedback on this exercise**\n",
        "\n",
        "Please provide your thoughts and feedback on the exercises you completed in this assignment.\n",
        "\n",
        "\n",
        "**(Your submission will not be graded if this question is left unanswered)**\n",
        "\n"
      ],
      "metadata": {
        "id": "IUKC7suYhVl0"
      }
    },
    {
      "cell_type": "code",
      "source": [
        "# Your answer here (no code for this question, write down your answer as detail as possible for the above questions):\n",
        "\n",
        "'''\n",
        "Please write you answer here:\n",
        "I learned machine learning algorithm for text classification and text clustering. It takes more time to execute the algorithm for large datasets.\n",
        "\n",
        "\n",
        "\n",
        "\n",
        "'''"
      ],
      "metadata": {
        "id": "CAq0DZWAhU9m"
      },
      "execution_count": null,
      "outputs": []
    }
  ],
  "metadata": {
    "kernelspec": {
      "display_name": "Python 3 (ipykernel)",
      "language": "python",
      "name": "python3"
    },
    "language_info": {
      "codemirror_mode": {
        "name": "ipython",
        "version": 3
      },
      "file_extension": ".py",
      "mimetype": "text/x-python",
      "name": "python",
      "nbconvert_exporter": "python",
      "pygments_lexer": "ipython3",
      "version": "3.9.12"
    },
    "colab": {
      "provenance": [],
      "include_colab_link": true
    }
  },
  "nbformat": 4,
  "nbformat_minor": 0
}
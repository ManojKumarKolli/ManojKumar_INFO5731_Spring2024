{
  "cells": [
    {
      "cell_type": "markdown",
      "metadata": {
        "id": "view-in-github",
        "colab_type": "text"
      },
      "source": [
        "<a href=\"https://colab.research.google.com/github/ManojKumarKolli/ManojKumar_INFO5731_Spring2024/blob/main/Assignments/Kolli_ManojKumar_Assignment_03.ipynb\" target=\"_parent\"><img src=\"https://colab.research.google.com/assets/colab-badge.svg\" alt=\"Open In Colab\"/></a>"
      ]
    },
    {
      "cell_type": "markdown",
      "metadata": {
        "id": "Ryk8D1Q4Wsrp"
      },
      "source": [
        "# **INFO5731 Assignment 3**\n",
        "\n",
        "In this assignment, we will delve into various aspects of natural language processing (NLP) and text analysis. The tasks are designed to deepen your understanding of key NLP concepts and techniques, as well as to provide hands-on experience with practical applications.\n",
        "\n",
        "Through these tasks, you'll gain practical experience in NLP techniques such as N-gram analysis, TF-IDF, word embedding model creation, and sentiment analysis dataset creation.\n",
        "\n",
        "**Expectations**:\n",
        "*   Use the provided .*ipynb* document to write your code & respond to the questions. Avoid generating a new file.\n",
        "*   Write complete answers and run all the cells before submission.\n",
        "*   Make sure the submission is \"clean\"; *i.e.*, no unnecessary code cells.\n",
        "*   Once finished, allow shared rights from top right corner (*see Canvas for details*).\n",
        "\n",
        "\n",
        "**Total points**: 100\n",
        "\n",
        "**Deadline**: See Canvas\n",
        "\n",
        "**Late Submission will have a penalty of 10% reduction for each day after the deadline.**\n"
      ]
    },
    {
      "cell_type": "markdown",
      "metadata": {
        "id": "JkzR8cFAyGik"
      },
      "source": [
        "## Question 1 (30 points)\n",
        "\n",
        "**Understand N-gram**\n",
        "\n",
        "Write a python program to conduct N-gram analysis based on the dataset in your assignment two. You need to write codes from scratch instead of using any pre-existing libraries to do so:\n",
        "\n",
        "(1) Count the frequency of all the N-grams (N=3).\n",
        "\n",
        "(2) Calculate the probabilities for all the bigrams in the dataset by using the fomular count(w2 w1) / count(w2). For example, count(really like) / count(really) = 1 / 3 = 0.33.\n",
        "\n",
        "(3) Extract all the noun phrases and calculate the relative probabilities of each review in terms of other reviews (abstracts, or tweets) by using the fomular frequency (noun phrase) / max frequency (noun phrase) on the whole dataset. Print out the result in a table with column name the all the noun phrases and row name as all the 100 reviews (abstracts, or tweets)."
      ]
    },
    {
      "cell_type": "code",
      "source": [
        "import warnings\n",
        "\n",
        "# Ignore all warnings\n",
        "warnings.filterwarnings('ignore')\n",
        "\n",
        "import pandas as pd\n",
        "import numpy as np\n",
        "from collections import defaultdict\n",
        "import re\n",
        "import nltk\n",
        "from nltk.tokenize import word_tokenize\n",
        "from nltk import pos_tag\n",
        "from nltk.corpus import stopwords\n",
        "\n",
        "import nltk\n",
        "nltk.download('stopwords')\n",
        "nltk.download('punkt')\n",
        "nltk.download('averaged_perceptron_tagger')"
      ],
      "metadata": {
        "id": "1VuwS89VQh7s",
        "colab": {
          "base_uri": "https://localhost:8080/"
        },
        "outputId": "0ad5a497-86fc-4cbb-c158-fa865bd0309b"
      },
      "execution_count": 2,
      "outputs": [
        {
          "output_type": "stream",
          "name": "stderr",
          "text": [
            "[nltk_data] Downloading package stopwords to /root/nltk_data...\n",
            "[nltk_data]   Package stopwords is already up-to-date!\n",
            "[nltk_data] Downloading package punkt to /root/nltk_data...\n",
            "[nltk_data]   Package punkt is already up-to-date!\n",
            "[nltk_data] Downloading package averaged_perceptron_tagger to\n",
            "[nltk_data]     /root/nltk_data...\n",
            "[nltk_data]   Package averaged_perceptron_tagger is already up-to-\n",
            "[nltk_data]       date!\n"
          ]
        },
        {
          "output_type": "execute_result",
          "data": {
            "text/plain": [
              "True"
            ]
          },
          "metadata": {},
          "execution_count": 2
        }
      ]
    },
    {
      "cell_type": "code",
      "execution_count": 3,
      "metadata": {
        "id": "9v8IikDpqrxn"
      },
      "outputs": [],
      "source": [
        "# Function to generate n-grams\n",
        "def generate_ngrams(text, n):\n",
        "    text = re.sub(r'[^\\w\\s]', '', text)  # Remove punctuation\n",
        "    tokens = text.lower().split()  # Tokenize and convert to lower case\n",
        "    ngrams = zip(*[tokens[i:] for i in range(n)])\n",
        "    return [\" \".join(ngram) for ngram in ngrams]\n",
        "\n",
        "# Function to count n-grams in a list of texts\n",
        "def count_ngrams(texts, n):\n",
        "    ngram_counts = defaultdict(int)\n",
        "    for text in texts:\n",
        "        for ngram in generate_ngrams(text, n):\n",
        "            ngram_counts[ngram] += 1\n",
        "    return ngram_counts\n",
        "\n",
        "# Noun Phrase Extraction Function\n",
        "def extract_noun_phrases(text):\n",
        "    stop_words = set(stopwords.words('english'))\n",
        "    tokens = word_tokenize(text)\n",
        "    tagged = pos_tag(tokens)\n",
        "    noun_phrases = []\n",
        "    for word, tag in tagged:\n",
        "        if word.lower() not in stop_words and 'NN' in tag and word.isalpha():\n",
        "            noun_phrases.append(word.lower())  # Collect nouns\n",
        "    return noun_phrases"
      ]
    },
    {
      "cell_type": "code",
      "source": [
        "from google.colab import drive\n",
        "drive.mount('/content/drive')"
      ],
      "metadata": {
        "colab": {
          "base_uri": "https://localhost:8080/"
        },
        "id": "_2rFlfzHMznB",
        "outputId": "001aeeea-2452-47e1-bc3d-9a34818773e8"
      },
      "execution_count": 4,
      "outputs": [
        {
          "output_type": "stream",
          "name": "stdout",
          "text": [
            "Drive already mounted at /content/drive; to attempt to forcibly remount, call drive.mount(\"/content/drive\", force_remount=True).\n"
          ]
        }
      ]
    },
    {
      "cell_type": "code",
      "source": [
        "# Load the dataset\n",
        "file_path = '/content/drive/MyDrive/5731/imdb_reviews_cleaned.csv'\n",
        "data = pd.read_csv(file_path).dropna(subset=['Clean_Review'])\n",
        "\n",
        "# Process the data for N-gram analysis\n",
        "data['Noun_Phrases'] = data['Clean_Review'].apply(extract_noun_phrases)\n",
        "\n",
        "# Question 1 (1): Count the frequency of all the N-grams (N=3).\n",
        "trigram_counts = count_ngrams(data['Clean_Review'], 3)\n",
        "\n",
        "# Question 1 (2): Calculate the probabilities for all the bigrams.\n",
        "bigram_counts = count_ngrams(data['Clean_Review'], 2)\n",
        "unigram_counts = count_ngrams(data['Clean_Review'], 1)\n",
        "bigram_probabilities = {bigram: count / unigram_counts[bigram.split()[0]] for bigram, count in bigram_counts.items()}\n",
        "\n",
        "# Print some results for verification\n",
        "print(\"Sample Trigram Counts:\")\n",
        "print(list(trigram_counts.items())[:5])\n",
        "print(\"\\nSample Bigram Probabilities:\")\n",
        "print(list(bigram_probabilities.items())[:5])"
      ],
      "metadata": {
        "colab": {
          "base_uri": "https://localhost:8080/"
        },
        "id": "sP7Is3U4RiJa",
        "outputId": "5e34b53c-befc-4f1b-ed9a-fc6bf8f21340"
      },
      "execution_count": 5,
      "outputs": [
        {
          "output_type": "stream",
          "name": "stdout",
          "text": [
            "Sample Trigram Counts:\n",
            "[('infin war amaz', 3), ('war amaz nope', 1), ('amaz nope hollyweird', 1), ('nope hollyweird doesnt', 1), ('hollyweird doesnt know', 1)]\n",
            "\n",
            "Sample Bigram Probabilities:\n",
            "[('infin war', 0.8252595155709342), ('war amaz', 0.005639097744360902), ('amaz nope', 0.007633587786259542), ('nope hollyweird', 1.0), ('hollyweird doesnt', 1.0)]\n"
          ]
        }
      ]
    },
    {
      "cell_type": "code",
      "source": [
        "# Question 1 (3): Extract all the noun phrases and calculate the relative probabilities.\n",
        "noun_phrase_frequencies = defaultdict(lambda: [0] * len(data))\n",
        "max_frequencies = defaultdict(int)\n",
        "\n",
        "# Reset the index of data to ensure continuous indexing\n",
        "data.reset_index(drop=True, inplace=True)\n",
        "\n",
        "# Reinitialize to correct previous issue\n",
        "noun_phrase_frequencies = defaultdict(lambda: [0] * len(data))\n",
        "max_frequencies = defaultdict(int)\n",
        "\n",
        "# Use a continuous counter for indexing instead of DataFrame's index\n",
        "for index, row in data.iterrows():\n",
        "    for phrase in row['Noun_Phrases']:\n",
        "        # Increment the counter for the phrase by 1\n",
        "        noun_phrase_frequencies[phrase][index] += 1\n",
        "        # Update max frequency if current frequency is higher\n",
        "        max_frequencies[phrase] = max(max_frequencies[phrase], noun_phrase_frequencies[phrase][index])\n",
        "\n",
        "# Proceed to calculate relative probabilities\n",
        "relative_probabilities_df = pd.DataFrame()\n",
        "\n",
        "for phrase, frequencies in noun_phrase_frequencies.items():\n",
        "    relative_probabilities_df[phrase] = [freq / max_frequencies[phrase] if max_frequencies[phrase] > 0 else 0 for freq in frequencies]\n",
        "\n",
        "print(\"\\nRelative Probabilities DataFrame:\")\n",
        "print(relative_probabilities_df.head(100))"
      ],
      "metadata": {
        "colab": {
          "base_uri": "https://localhost:8080/"
        },
        "id": "hSyqN-rHRBqZ",
        "outputId": "0d489086-cab7-41bd-a68b-a7c127edf4a9"
      },
      "execution_count": 6,
      "outputs": [
        {
          "output_type": "stream",
          "name": "stdout",
          "text": [
            "\n",
            "Relative Probabilities DataFrame:\n",
            "      war  hollyweird  doesnt  anymor  paint  number  submit  committe  \\\n",
            "0   0.125         1.0    0.25     0.5    1.0     0.5     1.0       1.0   \n",
            "1   0.000         0.0    0.00     0.0    0.0     0.0     0.0       0.0   \n",
            "2   0.000         0.0    0.00     0.0    0.0     0.0     0.0       0.0   \n",
            "3   0.125         0.0    0.00     0.0    0.0     0.0     0.0       0.0   \n",
            "4   0.000         0.0    0.00     0.0    0.0     0.0     0.0       0.0   \n",
            "..    ...         ...     ...     ...    ...     ...     ...       ...   \n",
            "95  0.125         0.0    0.25     0.0    0.0     0.0     0.0       0.0   \n",
            "96  0.000         0.0    0.00     0.0    0.0     0.0     0.0       0.0   \n",
            "97  0.000         0.0    0.00     0.0    0.0     0.0     0.0       0.0   \n",
            "98  0.000         0.0    0.00     0.0    0.0     0.0     0.0       0.0   \n",
            "99  0.250         0.0    0.00     0.0    0.0     0.0     0.0       0.0   \n",
            "\n",
            "      robert  downey  ...  tldr  spmeth  rob  semiseri  recip  gat  spectrum  \\\n",
            "0   0.333333     0.5  ...   0.0     0.0  0.0       0.0    0.0  0.0       0.0   \n",
            "1   0.000000     0.0  ...   0.0     0.0  0.0       0.0    0.0  0.0       0.0   \n",
            "2   0.000000     0.0  ...   0.0     0.0  0.0       0.0    0.0  0.0       0.0   \n",
            "3   0.333333     0.5  ...   0.0     0.0  0.0       0.0    0.0  0.0       0.0   \n",
            "4   0.000000     0.0  ...   0.0     0.0  0.0       0.0    0.0  0.0       0.0   \n",
            "..       ...     ...  ...   ...     ...  ...       ...    ...  ...       ...   \n",
            "95  0.000000     0.0  ...   0.0     0.0  0.0       0.0    0.0  0.0       0.0   \n",
            "96  0.000000     0.0  ...   0.0     0.0  0.0       0.0    0.0  0.0       0.0   \n",
            "97  0.000000     0.0  ...   0.0     0.0  0.0       0.0    0.0  0.0       0.0   \n",
            "98  0.000000     0.0  ...   0.0     0.0  0.0       0.0    0.0  0.0       0.0   \n",
            "99  0.000000     0.0  ...   0.0     0.0  0.0       0.0    0.0  0.0       0.0   \n",
            "\n",
            "    widerang  masterstrok   vi  \n",
            "0        0.0          0.0  0.0  \n",
            "1        0.0          0.0  0.0  \n",
            "2        0.0          0.0  0.0  \n",
            "3        0.0          0.0  0.0  \n",
            "4        0.0          0.0  0.0  \n",
            "..       ...          ...  ...  \n",
            "95       0.0          0.0  0.0  \n",
            "96       0.0          0.0  0.0  \n",
            "97       0.0          0.0  0.0  \n",
            "98       0.0          0.0  0.0  \n",
            "99       0.0          0.0  0.0  \n",
            "\n",
            "[100 rows x 3983 columns]\n"
          ]
        }
      ]
    },
    {
      "cell_type": "markdown",
      "metadata": {
        "id": "90_NR8c5XGWc"
      },
      "source": [
        "## Question 2 (25 points)\n",
        "\n",
        "**Undersand TF-IDF and Document representation**\n",
        "\n",
        "Starting from the documents (all the reviews, or abstracts, or tweets) collected for assignment two, write a python program:\n",
        "\n",
        "(1) To build the documents-terms weights (tf * idf) matrix.\n",
        "\n",
        "(2) To rank the documents with respect to query (design a query by yourself, for example, \"An Outstanding movie with a haunting performance and best character development\") by using cosine similarity.\n",
        "\n",
        "Note: You need to write codes from scratch instead of using any pre-existing libraries to do so."
      ]
    },
    {
      "cell_type": "code",
      "source": [
        "import math\n",
        "import re\n",
        "from collections import defaultdict\n",
        "\n",
        "# Splitting text into words while making them lowercase\n",
        "def split_into_words(text):\n",
        "    return re.findall(r'\\b\\w+\\b', text.lower())\n",
        "\n",
        "# Calculating frequency of each term within a document\n",
        "def calculate_term_frequency(words):\n",
        "    term_freq = defaultdict(int)\n",
        "    for word in words:\n",
        "        term_freq[word] += 1\n",
        "    total_words = len(words)\n",
        "    for term in term_freq:\n",
        "        term_freq[term] /= total_words\n",
        "    return term_freq\n",
        "\n",
        "# Determining the importance of a term across a collection of documents\n",
        "def calculate_inverse_document_frequency(all_documents):\n",
        "    inverse_df = defaultdict(lambda: 0)\n",
        "    num_documents = len(all_documents)\n",
        "    for document in all_documents:\n",
        "        unique_terms = set(document)\n",
        "        for term in unique_terms:\n",
        "            inverse_df[term] += 1\n",
        "    for term in inverse_df:\n",
        "        inverse_df[term] = math.log(num_documents / inverse_df[term])\n",
        "    return inverse_df\n",
        "\n",
        "# Processing each document to extract tokens\n",
        "processed_docs = [split_into_words(review) for review in data['Clean_Review']]\n",
        "term_frequencies = [calculate_term_frequency(doc) for doc in processed_docs]\n",
        "\n",
        "# Calculating IDF for all documents\n",
        "idf_values = calculate_inverse_document_frequency(processed_docs)\n",
        "\n",
        "# Computing TF-IDF scores for each document\n",
        "tf_idf_scores = []\n",
        "tf_idf_matrix = []\n",
        "\n",
        "for term_freq in term_frequencies:\n",
        "    document_scores = {}\n",
        "    doc_matrix = []\n",
        "    for term, freq in term_freq.items():\n",
        "        tf_idf_score = freq * idf_values[term]\n",
        "        document_scores[term] = tf_idf_score\n",
        "        doc_matrix.append(tf_idf_score)\n",
        "    tf_idf_scores.append(document_scores)\n",
        "    tf_idf_matrix.append(doc_matrix)\n",
        "\n",
        "# Converting the TF-IDF scores into a DataFrame\n",
        "tf_idf_df = pd.DataFrame(tf_idf_matrix)\n",
        "# Filling NaNs with 0\n",
        "tf_idf_df.fillna(0, inplace=True)\n",
        "\n",
        "# Printing the DataFrame\n",
        "print(\"Documents-Terms Weights (TF * IDF) Matrix:\")\n",
        "print(tf_idf_df)\n",
        "\n",
        "# Function to calculate the similarity between two documents\n",
        "def calculate_similarity(document_vector, search_vector):\n",
        "    intersection = sum(document_vector.get(key, 0) * search_vector.get(key, 0) for key in search_vector)\n",
        "    magnitude_document = sum(value ** 2 for value in document_vector.values())\n",
        "    magnitude_search = sum(value ** 2 for value in search_vector.values())\n",
        "    if magnitude_document == 0 or magnitude_search == 0:\n",
        "        return 0\n",
        "    return intersection / (math.sqrt(magnitude_document) * math.sqrt(magnitude_search))\n",
        "\n",
        "# Crafting a search query\n",
        "search_query = \"A captivating ensemble superhero movie that combines action, humor, and heart. The Avengers features iconic characters teaming up to save the world from an unprecedented threat, showcasing spectacular visual effects and dynamic character interactions.\"\n",
        "search_words = split_into_words(search_query)\n",
        "search_term_freq = calculate_term_frequency(search_words)\n",
        "search_tf_idf = {word: search_term_freq.get(word, 0) * idf_values.get(word, 0) for word in search_words}\n",
        "\n",
        "# Finding similarity scores for each document against the search query\n",
        "similarity_scores = [calculate_similarity(doc_score, search_tf_idf) for doc_score in tf_idf_scores]\n",
        "\n",
        "# Sorting documents based on their similarity to the query\n",
        "sorted_documents = sorted(enumerate(similarity_scores, 1), key=lambda x: x[1], reverse=True)\n",
        "\n",
        "# Outputting the most similar documents\n",
        "print(\"\\n\\nMost Similar Documents:\")\n",
        "for doc_number, similarity_score in sorted_documents[:10]:\n",
        "    print(f\"Document {doc_number} has a similarity score of {similarity_score}\")\n"
      ],
      "metadata": {
        "colab": {
          "base_uri": "https://localhost:8080/"
        },
        "id": "lBl_QZ2GCuPP",
        "outputId": "fa7d7d2f-b0bf-44f1-9421-1ac5fcbe516e"
      },
      "execution_count": 13,
      "outputs": [
        {
          "output_type": "stream",
          "name": "stdout",
          "text": [
            "Documents-Terms Weights (TF * IDF) Matrix:\n",
            "          0         1         2         3         4         5         6    \\\n",
            "0    0.050486  0.054079  0.100285  0.313943  0.313943  0.123505  0.098662   \n",
            "1    0.288954  0.208126  0.232112  0.173663  0.192597  0.112550  0.045535   \n",
            "2    0.039934  0.023759  0.043568  0.029378  0.123087  0.047983  0.082500   \n",
            "3    0.037536  0.019835  0.012387  0.017003  0.029840  0.015025  0.012008   \n",
            "4    0.038768  0.040783  0.104160  0.147586  0.080523  0.052446  0.058916   \n",
            "..        ...       ...       ...       ...       ...       ...       ...   \n",
            "994  0.017143  0.016558  0.040927  0.041462  0.043360  0.053237  0.054856   \n",
            "995  0.079286  0.072707  0.139832  0.206753  0.154394  0.125242  0.328893   \n",
            "996  0.196277  0.189876  0.178574  0.116697  0.064314  0.344808  0.213909   \n",
            "997  0.036751  0.057059  0.087096  0.156945  0.096113  0.093963  0.104388   \n",
            "998  0.021551  0.007847  0.028302  0.019294  0.070403  0.047277  0.033067   \n",
            "\n",
            "          7         8         9    ...  480  481  482  483  484  485  486  \\\n",
            "0    0.146267  0.069403  0.193986  ...  0.0  0.0  0.0  0.0  0.0  0.0  0.0   \n",
            "1    0.662165  0.000000  0.000000  ...  0.0  0.0  0.0  0.0  0.0  0.0  0.0   \n",
            "2    0.025623  0.042646  0.093680  ...  0.0  0.0  0.0  0.0  0.0  0.0  0.0   \n",
            "3    0.006431  0.015479  0.037334  ...  0.0  0.0  0.0  0.0  0.0  0.0  0.0   \n",
            "4    0.054366  0.044394  0.043616  ...  0.0  0.0  0.0  0.0  0.0  0.0  0.0   \n",
            "..        ...       ...       ...  ...  ...  ...  ...  ...  ...  ...  ...   \n",
            "994  0.034261  0.033369  0.058125  ...  0.0  0.0  0.0  0.0  0.0  0.0  0.0   \n",
            "995  0.142606  0.150909  0.123298  ...  0.0  0.0  0.0  0.0  0.0  0.0  0.0   \n",
            "996  0.157591  0.026020  0.272551  ...  0.0  0.0  0.0  0.0  0.0  0.0  0.0   \n",
            "997  0.098517  0.033447  0.046368  ...  0.0  0.0  0.0  0.0  0.0  0.0  0.0   \n",
            "998  0.034948  0.027255  0.016958  ...  0.0  0.0  0.0  0.0  0.0  0.0  0.0   \n",
            "\n",
            "     487  488  489  \n",
            "0    0.0  0.0  0.0  \n",
            "1    0.0  0.0  0.0  \n",
            "2    0.0  0.0  0.0  \n",
            "3    0.0  0.0  0.0  \n",
            "4    0.0  0.0  0.0  \n",
            "..   ...  ...  ...  \n",
            "994  0.0  0.0  0.0  \n",
            "995  0.0  0.0  0.0  \n",
            "996  0.0  0.0  0.0  \n",
            "997  0.0  0.0  0.0  \n",
            "998  0.0  0.0  0.0  \n",
            "\n",
            "[999 rows x 490 columns]\n",
            "\n",
            "\n",
            "Most Similar Documents:\n",
            "Document 354 has a similarity score of 0.15908109400549164\n",
            "Document 677 has a similarity score of 0.11184042328165829\n",
            "Document 771 has a similarity score of 0.10882082252584974\n",
            "Document 242 has a similarity score of 0.10742276758174632\n",
            "Document 732 has a similarity score of 0.10280516860394402\n",
            "Document 646 has a similarity score of 0.09875656864217323\n",
            "Document 644 has a similarity score of 0.09621689603872356\n",
            "Document 670 has a similarity score of 0.09433404957253329\n",
            "Document 20 has a similarity score of 0.0871190421397677\n",
            "Document 216 has a similarity score of 0.08658719027056823\n"
          ]
        }
      ]
    },
    {
      "cell_type": "markdown",
      "metadata": {
        "id": "1F_PZdH9Sh49"
      },
      "source": [
        "## Question 3 (25 points)\n",
        "\n",
        "**Create your own word embedding model**\n",
        "\n",
        "Use the data you collected for assignment 2 to build a word embedding model:\n",
        "\n",
        "(1) Train a 300-dimension word embedding (it can be word2vec, glove, ulmfit, bert, or others).\n",
        "\n",
        "(2) Visualize the word embedding model you created.\n",
        "\n",
        "Reference: https://machinelearningmastery.com/develop-word-embeddings-python-gensim/\n",
        "\n",
        "Reference: https://jaketae.github.io/study/word2vec/"
      ]
    },
    {
      "cell_type": "code",
      "execution_count": 8,
      "metadata": {
        "id": "eczZgyAoo05Q"
      },
      "outputs": [],
      "source": [
        "# Write your code here\n",
        "\n",
        "from gensim.models import Word2Vec\n",
        "from nltk.tokenize import word_tokenize\n",
        "import pandas as pd\n",
        "\n",
        "# Load the dataset\n",
        "# data = pd.read_csv(file_path)\n",
        "\n",
        "# Preprocess the text data\n",
        "def preprocess_text(text):\n",
        "    # Tokenize the text\n",
        "    tokens = word_tokenize(text)\n",
        "    # Convert to lowercase\n",
        "    tokens = [token.lower() for token in tokens]\n",
        "    return tokens\n",
        "\n",
        "# Tokenize and preprocess the text data\n",
        "tokenized_data = data['Clean_Review'].apply(preprocess_text).tolist()\n",
        "\n",
        "# Train Word2Vec model\n",
        "embedding_size = 300  # Set the embedding size\n",
        "window_size = 5  # Set the context window size\n",
        "min_count = 1  # Minimum word frequency threshold\n",
        "model = Word2Vec(sentences=tokenized_data, vector_size=embedding_size, window=window_size, min_count=min_count)\n",
        "\n",
        "# Visualize the word embedding model\n",
        "# we can use dimensionality reduction techniques like t-SNE for visualization\n",
        "\n",
        "\n",
        "\n",
        "\n",
        "\n"
      ]
    },
    {
      "cell_type": "code",
      "source": [
        "import numpy as np\n",
        "from sklearn.manifold import TSNE\n",
        "import matplotlib.pyplot as plt\n",
        "\n",
        "# Function to visualize word embeddings using t-SNE\n",
        "def visualize_embeddings(model, num_words=100):\n",
        "    words = list(model.wv.index_to_key)[:num_words]\n",
        "    vectors = np.array([model.wv[word] for word in words])  # Convert to numpy array\n",
        "    tsne_model = TSNE(perplexity=40, n_components=2, init='pca', n_iter=2500, random_state=23)\n",
        "    embeddings_tsne = tsne_model.fit_transform(vectors)\n",
        "    plt.figure(figsize=(12, 8))\n",
        "    for i, word in enumerate(words):\n",
        "        x, y = embeddings_tsne[i, :]\n",
        "        plt.scatter(x, y, marker='o', color='blue')\n",
        "        plt.text(x, y, word, fontsize=9)\n",
        "    plt.xlabel('t-SNE Dimension 1')\n",
        "    plt.ylabel('t-SNE Dimension 2')\n",
        "    plt.title('Word Embeddings Visualization')\n",
        "    plt.show()\n",
        "\n",
        "# Visualize word embeddings\n",
        "visualize_embeddings(model)\n"
      ],
      "metadata": {
        "colab": {
          "base_uri": "https://localhost:8080/",
          "height": 718
        },
        "id": "_ZuhHczUd4a7",
        "outputId": "f6565609-e890-4b21-b6f9-33bd6a94cac8"
      },
      "execution_count": 9,
      "outputs": [
        {
          "output_type": "display_data",
          "data": {
            "text/plain": [
              "<Figure size 1200x800 with 1 Axes>"
            ],
            "image/png": "[encoded data removed]"
          },
          "metadata": {}
        }
      ]
    },
    {
      "cell_type": "markdown",
      "metadata": {
        "id": "DDoVp3aYoU8F"
      },
      "source": [
        "## Question 4 (20 Points)\n",
        "\n",
        "**Create your own training and evaluation data for sentiment analysis.**\n",
        "\n",
        " **You don't need to write program for this question!**\n",
        "\n",
        " For example, if you collected a movie review or a product review data, then you can do the following steps:\n",
        "\n",
        "*   Read each review (abstract or tweet) you collected in detail, and annotate each review with a sentiment (positive, negative, or neutral).\n",
        "\n",
        "*   Save the annotated dataset into a csv file with three columns (first column: document_id, clean_text, sentiment), upload the csv file to GitHub and submit the file link blew.\n",
        "\n",
        "*   This datset will be used for assignment four: sentiment analysis and text classification.\n"
      ]
    },
    {
      "cell_type": "code",
      "execution_count": 10,
      "metadata": {
        "id": "DyK54UY6ompS"
      },
      "outputs": [],
      "source": [
        "# The github link of your final csv file\n",
        "# Link:\n",
        "https://github.com/ManojKumarKolli/ManojKumar_INFO5731_Spring2024/blob/main/Assignments/imdb_reviews_sentiment_annotated.csv\n"
      ]
    },
    {
      "cell_type": "markdown",
      "metadata": {
        "id": "q8BFCvWp32cf"
      },
      "source": [
        "# Mandatory Question\n",
        "\n",
        "Provide your thoughts on the assignment. What did you find challenging, and what aspects did you enjoy? Your opinion on the provided time to complete the assignment."
      ]
    },
    {
      "cell_type": "code",
      "execution_count": null,
      "metadata": {
        "id": "sNXlsbrirHRo"
      },
      "outputs": [],
      "source": [
        "# Type your answer\n",
        "\n",
        "\n",
        "# It is fun to work on this assignment. It took some longer time, but learnt a lot of concepts. When deling with N-grams, it is a fun task."
      ]
    }
  ],
  "metadata": {
    "colab": {
      "provenance": [],
      "include_colab_link": true
    },
    "kernelspec": {
      "display_name": "Python 3 (ipykernel)",
      "language": "python",
      "name": "python3"
    },
    "language_info": {
      "codemirror_mode": {
        "name": "ipython",
        "version": 3
      },
      "file_extension": ".py",
      "mimetype": "text/x-python",
      "name": "python",
      "nbconvert_exporter": "python",
      "pygments_lexer": "ipython3",
      "version": "3.9.12"
    }
  },
  "nbformat": 4,
  "nbformat_minor": 0
}
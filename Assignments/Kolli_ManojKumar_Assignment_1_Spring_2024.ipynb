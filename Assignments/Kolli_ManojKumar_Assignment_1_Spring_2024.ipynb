{
  "cells": [
    {
      "cell_type": "markdown",
      "metadata": {
        "id": "view-in-github",
        "colab_type": "text"
      },
      "source": [
        "<a href=\"https://colab.research.google.com/github/ManojKumarKolli/ManojKumar_INFO5731_Spring2024/blob/main/Assignments/Kolli_ManojKumar_Assignment_1_Spring_2024.ipynb\" target=\"_parent\"><img src=\"https://colab.research.google.com/assets/colab-badge.svg\" alt=\"Open In Colab\"/></a>"
      ]
    },
    {
      "cell_type": "code",
      "source": [
        "from google.colab import drive\n",
        "drive.mount('/content/drive')"
      ],
      "metadata": {
        "colab": {
          "base_uri": "https://localhost:8080/"
        },
        "id": "tnhyRXiPCFmP",
        "outputId": "28c00d89-7160-44f5-a4c2-5ec864b3da58"
      },
      "execution_count": 1,
      "outputs": [
        {
          "output_type": "stream",
          "name": "stdout",
          "text": [
            "Mounted at /content/drive\n"
          ]
        }
      ]
    },
    {
      "cell_type": "markdown",
      "metadata": {
        "id": "Ryk8D1Q4Wsrp"
      },
      "source": [
        "# **INFO5731 Assignment One**"
      ]
    },
    {
      "cell_type": "markdown",
      "metadata": {
        "id": "qcP6re2g5A5r"
      },
      "source": [
        "This assignment includes range of programming tasks and data analysis exercises, aiming to enhance your Python skills and proficiency in string manipulation, numerical computations, and data science. Follow the instructions carefully and design well-structured Python programs to address each question.\n",
        "\n",
        "Late Submission will have a penalty of 10% reduction for each day after the deadline."
      ]
    },
    {
      "cell_type": "markdown",
      "metadata": {
        "id": "JkzR8cFAyGik"
      },
      "source": [
        "# Question 1 (10 points).\n",
        "\n",
        "The formula that describes the volume V of a hemisphere with radius r is the following:\n",
        "\n",
        "$ V=\\frac{2}{3}\\ast\\ \\pi\\ast\\ r^3 $\n",
        "\n",
        "Write a program to calculate the value of V when r is in the range of even numbers from 1-20. Output the result in the following format:\n",
        "\n",
        "\tr\tV\n",
        "\t2\t…\n",
        "\t4\t…\n",
        "\t6\t…\n",
        "\t.\n",
        "\t.\n",
        "\t.\n",
        "\t20\t…\n"
      ]
    },
    {
      "cell_type": "code",
      "execution_count": 2,
      "metadata": {
        "id": "jDyTKYs-yGit",
        "colab": {
          "base_uri": "https://localhost:8080/"
        },
        "outputId": "c8f317d0-b652-4021-f531-87576435dc72"
      },
      "outputs": [
        {
          "output_type": "stream",
          "name": "stdout",
          "text": [
            "r\tV\n",
            "2\t16.76\n",
            "4\t134.10\n",
            "6\t452.57\n",
            "8\t1072.76\n",
            "10\t2095.24\n",
            "12\t3620.57\n",
            "14\t5749.33\n",
            "16\t8582.10\n",
            "18\t12219.43\n",
            "20\t16761.90\n"
          ]
        }
      ],
      "source": [
        "# Your code here\n",
        "# volume of hemisphere function\n",
        "def volume_of_hemisphere(r):\n",
        "    return (2/3) * (22/7) * r ** 3\n",
        "\n",
        "# finding volumes for even radius between 2 and 20\n",
        "volume_results = [(r, volume_of_hemisphere(r)) for r in range(2, 21, 2)]\n",
        "\n",
        "print(\"r\\tV\")\n",
        "for r, v in volume_results:\n",
        "    print(f\"{r}\\t{v:.2f}\")\n",
        "\n"
      ]
    },
    {
      "cell_type": "markdown",
      "metadata": {
        "id": "90_NR8c5XGWc"
      },
      "source": [
        "# Question 2 (20 points)\n",
        "\n",
        "(a) Write a Python program to generate a sequence of 12 random numbers falling within the range of 50 to 150.\n",
        "\n",
        "(b) Arrange the generated numbers in ascending order. Display the sorted list.\n",
        "\n",
        "(c) Extend the program to arrange the numbers in descending order as well. Present the sorted list accordingly.\n",
        "\n",
        "(d) Compute and output the average of the entire group of generated numbers.\n",
        "\n",
        "(e) Enhance the program to calculate and display the average of the first 6 numbers from both the ascending and descending sorted lists."
      ]
    },
    {
      "cell_type": "code",
      "execution_count": 3,
      "metadata": {
        "id": "5QX6bJjGWXY9",
        "colab": {
          "base_uri": "https://localhost:8080/"
        },
        "outputId": "779c77cd-b6f2-4247-8c1c-afea9b2413e3"
      },
      "outputs": [
        {
          "output_type": "stream",
          "name": "stdout",
          "text": [
            "Ascending order: [83, 91, 93, 99, 109, 111, 114, 121, 123, 125, 134, 149]\n",
            "Descending order: [149, 134, 125, 123, 121, 114, 111, 109, 99, 93, 91, 83]\n",
            "Average of all numbers: 112.66666666666667\n",
            "Average of the first 6 numbers (ascending): 97.66666666666667\n",
            "Average of the first 6 numbers (descending): 127.66666666666667\n"
          ]
        }
      ],
      "source": [
        "# Write code for each of the sub parts with proper comments.\n",
        "import random\n",
        "\n",
        "# (a) Generate a sequence of 12 random numbers between 50 and 150\n",
        "random_numbers = [random.randint(50, 150) for _ in range(12)]\n",
        "\n",
        "# (b) Sort the numbers in ascending order\n",
        "ascending_sorted_numbers = sorted(random_numbers)\n",
        "\n",
        "# (c) Sort the numbers in descending order\n",
        "descending_sorted_numbers = sorted(random_numbers, reverse=True)\n",
        "\n",
        "# (d) calculate the average of the numbers\n",
        "average = sum(random_numbers) / len(random_numbers)\n",
        "\n",
        "# (e) Calculate the average of the first 6 numbers from both sorted lists\n",
        "average_first_6_ascending = sum(ascending_sorted_numbers[:6]) / 6\n",
        "average_first_6_descending = sum(descending_sorted_numbers[:6]) / 6\n",
        "\n",
        "# Display the results\n",
        "print(\"Ascending order:\", ascending_sorted_numbers)\n",
        "print(\"Descending order:\", descending_sorted_numbers)\n",
        "print(\"Average of all numbers:\", average)\n",
        "print(\"Average of the first 6 numbers (ascending):\", average_first_6_ascending)\n",
        "print(\"Average of the first 6 numbers (descending):\", average_first_6_descending)\n",
        "\n"
      ]
    },
    {
      "cell_type": "markdown",
      "metadata": {
        "id": "1F_PZdH9Sh49"
      },
      "source": [
        "# Question 3 (20 points).\n",
        "\n",
        "Create a Python program that encompasses various string manipulation task:\n",
        "\n",
        "(a) Prompt the user to input two sentences.\n",
        "\n",
        "(b) Transform each sentence into a list, where each element corresponds to a word in the sentence. For example, if the sentences are \"Hello, how are you doing today?\" and \"This is an example sentence for the program!\"\n",
        "\n",
        "The program should output:\n",
        "['Hello', ',', 'how', 'are', 'you', 'doing', 'today', '?', 'This', 'is', 'an', 'example', 'sentence', 'for', 'the', 'program', '!']\n",
        "\n",
        "(c) Compare the two sentences. Print out a list of words that occur in both sentences.\n",
        "\n",
        "(d) Remove any punctuation from the sentence and print the sanitized sentences. It should remove at least the following characters, but it can remove more: period(“.”), comma (“,”), semicolon (“;”), and colon (“:”).\n",
        "\n",
        "(e) Count the number of vowels in each of the sentences. Print out each vowel and the occurrences  in the each of the two sentences separately, such as:\n",
        "\n",
        "Sentence1: a:2, e:2, i:0, etc.\n",
        "Sentence2: a:1, e:2, i:2, etc.\n",
        "\n",
        "Design a well-structured Python program to execute these tasks efficiently."
      ]
    },
    {
      "cell_type": "code",
      "execution_count": 4,
      "metadata": {
        "id": "Y0oOSlsOS0cq",
        "colab": {
          "base_uri": "https://localhost:8080/"
        },
        "outputId": "9d9c1482-f854-4f2b-d222-046e25c6424b"
      },
      "outputs": [
        {
          "output_type": "stream",
          "name": "stdout",
          "text": [
            "Enter Sentence1: hello\n",
            "Enter Sentence2: hello\n",
            "['hello']\n",
            "['hello']\n",
            "\n",
            "Common words:\n",
            "{'hello'}\n",
            "\n",
            "Sentences after removing punctuation\n",
            "hello\n",
            "hello\n",
            "\n",
            "Vowels Count:\n",
            "{'a': 0, 'e': 1, 'i': 0, 'o': 1, 'u': 0}\n",
            "{'a': 0, 'e': 1, 'i': 0, 'o': 1, 'u': 0}\n"
          ]
        }
      ],
      "source": [
        "# Your code here\n",
        "\n",
        "import re\n",
        "from collections import Counter\n",
        "\n",
        "# Function to split sentences into words and punctuation\n",
        "def split_sentence(sentence):\n",
        "    return re.findall(r'\\w+|[.,!?;:]', sentence)\n",
        "\n",
        "# Function to remove punctuation and return a list of words\n",
        "def remove_punctuation(sentence):\n",
        "    return re.findall(r'\\w+', sentence)\n",
        "\n",
        "# Function to count vowels in a sentence\n",
        "def count_vowels(sentence):\n",
        "    vowels = 'aeiou'\n",
        "    filtered_sentence = {}\n",
        "    for char in vowels:\n",
        "        filtered_sentence[char] = sentence.count(char)\n",
        "    return filtered_sentence\n",
        "\n",
        "# (a) take input from the user\n",
        "sentence1 = input(\"Enter Sentence1: \")\n",
        "sentence2 = input(\"Enter Sentence2: \")\n",
        "\n",
        "#example\n",
        "# sentence1 = \"Hello, how are you doing today?\"\n",
        "# sentence2 = \"This is an example sentence, for the program today!\"\n",
        "\n",
        "# (b) Transform each sentence into a list of words and punctuation\n",
        "list_sentence1 = split_sentence(sentence1)\n",
        "list_sentence2 = split_sentence(sentence2)\n",
        "print(list_sentence1)\n",
        "print(list_sentence2)\n",
        "\n",
        "# (c) Compare the two sentences and print out a list of words that occur in both\n",
        "common_words = set(remove_punctuation(sentence1.lower())).intersection(set(remove_punctuation(sentence2.lower())))\n",
        "print(\"\\nCommon words:\")\n",
        "print(common_words)\n",
        "\n",
        "# (d) Remove punctuation\n",
        "sanitized_sentence1 = ' '.join(remove_punctuation(sentence1))\n",
        "sanitized_sentence2 = ' '.join(remove_punctuation(sentence2))\n",
        "print(\"\\nSentences after removing punctuation\")\n",
        "print(sanitized_sentence1)\n",
        "print(sanitized_sentence2)\n",
        "\n",
        "# (e) Count vowels in each of the sentences\n",
        "vowels_count_sentence1 = count_vowels(sentence1)\n",
        "vowels_count_sentence2 = count_vowels(sentence2)\n",
        "print(\"\\nVowels Count:\")\n",
        "print(vowels_count_sentence1)\n",
        "print(vowels_count_sentence2)\n",
        "\n"
      ]
    },
    {
      "cell_type": "markdown",
      "metadata": {
        "id": "OP4-5qxAtInv"
      },
      "source": [
        "# Question 4 (20 Points)"
      ]
    },
    {
      "cell_type": "markdown",
      "metadata": {
        "id": "uzN4_hDptK9U"
      },
      "source": [
        "Design and implement a simple command-line calculator program. The program should handle both integers and floating-point numbers.\n",
        "\n",
        "(a) Write program that takes a mathematical expression as input and evaluates it. The program should support addition, subtraction, multiplication, and division.\n",
        "\n",
        "(b) Extend the calculator to handle parentheses in mathematical expressions. Implement the necessary logic to evaluate expressions with nested parentheses.\n",
        "\n",
        "(c) Enhance your calculator to include additional mathematical operations such as exponentiation, square root, and modulus.\n",
        "\n",
        "(d) Implement error handling in the calculator program. Handle cases such as division by zero and invalid input expressions. Provide meaningful error messages.\n",
        "\n",
        "(e) Implement a command to exit the calculator."
      ]
    },
    {
      "cell_type": "code",
      "execution_count": 5,
      "metadata": {
        "id": "8nQnVxjJuYtu",
        "colab": {
          "base_uri": "https://localhost:8080/"
        },
        "outputId": "c9ec5fb9-f504-43dd-af75-6b7d861dd92c"
      },
      "outputs": [
        {
          "output_type": "stream",
          "name": "stdout",
          "text": [
            "1 + 2 * 3 = 7\n",
            "(2 + 3) * 5 = 25\n",
            "pow(2, 3) = 8\n",
            "sqrt(16) = 4.0\n",
            "10 % 3 = 1\n",
            "1 / 0 = Error: Division by zero.\n",
            "invalid + 1 = Error: Invalid input.\n",
            "Exiting calculator.\n"
          ]
        }
      ],
      "source": [
        "# Your code here\n",
        "\n",
        "import math\n",
        "\n",
        "# Calculator program\n",
        "def calculate(expression):\n",
        "    try:\n",
        "\n",
        "        result = eval(expression, {\"__builtins__\": None}, {\"sqrt\": math.sqrt, \"pow\": pow, \"%\": lambda x, y: x % y})\n",
        "        return result\n",
        "    except ZeroDivisionError:\n",
        "        return \"Error: Division by zero.\"\n",
        "    except:\n",
        "        return \"Error: Invalid input.\"\n",
        "\n",
        "expressions = [\n",
        "    \"1 + 2 * 3\",\n",
        "    \"(2 + 3) * 5\",\n",
        "    \"pow(2, 3)\",\n",
        "    \"sqrt(16)\",\n",
        "    \"10 % 3\",\n",
        "    \"1 / 0\",\n",
        "    \"invalid + 1\",\n",
        "    \"exit\"\n",
        "]\n",
        "\n",
        "for expression in expressions:\n",
        "    if expression == \"exit\":\n",
        "        print(\"Exiting calculator.\")\n",
        "        break\n",
        "    print(f\"{expression} = {calculate(expression)}\")\n"
      ]
    },
    {
      "cell_type": "markdown",
      "metadata": {
        "id": "z3tBE7E-Xn5X"
      },
      "source": [
        "# Question 5 (30 points).\n",
        "\n",
        "In the field of Data Science, data is often formatted as a comma-delimited (CSV) file, where each line in a file corresponds to a field's value. Refer to Chapter 9 (p. 106) for more information on comma-delimited files.\n",
        "\n",
        "To answer this question, you will need to download the file [Assignment1_denton_housing.csv](https://raw.githubusercontent.com/unt-iialab/info5731-spring2022/main/assignments/Assignment1_denton_housing.csv) included with this assignment. The file contains statistics about housing in the city of Denton from 2008 to 2014. Write a program to implement the following questions.\n",
        "\n",
        "(a) (5 pts) Calculate the difference in the number of Occupied Housing Units from year to year and print it. The difference must be calculated for the consecutive years such as 2008-2009, 2009-2010 etc. Finally, print the values in the ascending order.\n",
        "\n",
        "(b) (5 pts) For all the years, calculate the percentage of housing units which are vacant an occupied. Print the results in the following format:\n",
        "\n",
        "Year Vacant Housing Units Occupied Housing Units\n",
        "\n",
        "    2008  30%   70%                          \n",
        "\t2009 ----- -----\n",
        "\t2010 ----- -----\n",
        "    2011 ----- -----\n",
        "\t2012 ----- -----\n",
        "    2013 ----- -----\n",
        "\t2014 ----- -----\n",
        "  \n",
        "  \n",
        "\n",
        "(c) (10 pts) Calculate and print the valued and years in which the highest number of housing units were vacant and occupied. Print the results in the following format:  \n",
        "\n",
        "                              Year\tValue\n",
        "\tVacant Housing Units\t  -----   -----\n",
        "\tOccupied Housing Units\t-----   -----\n",
        "\n",
        "(d) (10 pts) Calculate the harmonic mean of the total housing units and print it out. You can find the information about harmonic mean here: https://ncalculators.com/statistics/harmonic-mean-calculator.htm"
      ]
    },
    {
      "cell_type": "code",
      "execution_count": 6,
      "metadata": {
        "id": "lqGYuHBhcsRH",
        "colab": {
          "base_uri": "https://localhost:8080/"
        },
        "outputId": "0528361c-4af5-4daf-e8a7-3e62d24c3128"
      },
      "outputs": [
        {
          "output_type": "stream",
          "name": "stdout",
          "text": [
            "Difference in the number of Occupied houses:\n",
            "0    -795.0\n",
            "1    -303.0\n",
            "2    1404.0\n",
            "3    1565.0\n",
            "4    2622.0\n",
            "5    5091.0\n",
            "Name: value, dtype: float64\n",
            "\n",
            "percentage of housing units which are vacant and occupied for all years\n",
            "title_field  Vacant Percentage  Occupied Percentage\n",
            "year                                               \n",
            "2008                     10.88                89.12\n",
            "2009                      9.07                90.93\n",
            "2010                      8.14                91.86\n",
            "2011                      9.38                90.62\n",
            "2012                      6.68                93.32\n",
            "2013                      8.80                91.20\n",
            "2014                      5.73                94.27\n",
            "\n",
            "years and values for the highest number of vacant and occupied housing units\n",
            "                 Category  Year  Value\n",
            "0    Vacant Housing Units  2008   4483\n",
            "1  Occupied Housing Units  2014  46295\n",
            "\n",
            "harmonic mean of the total housing units\n",
            "44398.28543969185\n"
          ]
        }
      ],
      "source": [
        " # Your code here\n",
        "from scipy.stats import hmean\n",
        "import pandas as pd\n",
        "\n",
        "df = pd.read_csv(\"/content/drive/MyDrive/5731/Assignment1_denton_housing.csv\")\n",
        "\n",
        "# (a) Calculate the difference in the number of Occupied Housing Units year-to-year\n",
        "occupied_housing = df[df['title_field'] == 'Occupied Housing Units'].sort_values(by='year')\n",
        "occupied_diff = occupied_housing['value'].diff().dropna().sort_values().reset_index(drop=True)\n",
        "print(\"Difference in the number of Occupied houses:\")\n",
        "print(occupied_diff)\n",
        "\n",
        "# (b) Calculate the percentage of housing units which are vacant and occupied for all years\n",
        "percentages = df.pivot(index='year', columns='title_field', values='value')\n",
        "percentages['Vacant Percentage'] = (percentages['Vacant Housing Units'] / percentages['Total Housing Units']) * 100\n",
        "percentages['Occupied Percentage'] = (percentages['Occupied Housing Units'] / percentages['Total Housing Units']) * 100\n",
        "percentages_result = percentages[['Vacant Percentage', 'Occupied Percentage']].round(2)\n",
        "print(\"\\npercentage of housing units which are vacant and occupied for all years\")\n",
        "print(percentages_result)\n",
        "\n",
        "# (c) Calculate and print the years and values for the highest number of vacant and occupied housing units\n",
        "highest_vacant = df[df['title_field'] == 'Vacant Housing Units'].sort_values(by='value', ascending=False).iloc[0]\n",
        "highest_occupied = df[df['title_field'] == 'Occupied Housing Units'].sort_values(by='value', ascending=False).iloc[0]\n",
        "highest_vacant_and_occupied = pd.DataFrame({\n",
        "    'Category': ['Vacant Housing Units', 'Occupied Housing Units'],\n",
        "    'Year': [highest_vacant['year'], highest_occupied['year']],\n",
        "    'Value': [highest_vacant['value'], highest_occupied['value']]\n",
        "})\n",
        "print(\"\\nyears and values for the highest number of vacant and occupied housing units\")\n",
        "print(highest_vacant_and_occupied)\n",
        "\n",
        "# (d) Calculate the harmonic mean of the total housing units\n",
        "harmonic_mean_total_housing = hmean(df[df['title_field'] == 'Total Housing Units']['value'])\n",
        "print(\"\\nharmonic mean of the total housing units\")\n",
        "print(harmonic_mean_total_housing)\n",
        "\n"
      ]
    },
    {
      "cell_type": "markdown",
      "metadata": {
        "id": "q8BFCvWp32cf"
      },
      "source": [
        "# Mandatory Question\n",
        "\n",
        "Provide your thoughts on the assignment. What did you find challenging, and what aspects did you enjoy? Your opinion on the provided time to complete the assignment. Share any suggestions for improvement. Your feedback will be valuable for enhancing the learning experience."
      ]
    },
    {
      "cell_type": "code",
      "execution_count": null,
      "metadata": {
        "id": "_e557s2w4BpK"
      },
      "outputs": [],
      "source": [
        "# Write your response below\n",
        "\n",
        "The assignments are at good level and the structure of the syllabus and assignments made it easy. We got enough time to complete the assignments."
      ]
    }
  ],
  "metadata": {
    "colab": {
      "provenance": [],
      "include_colab_link": true
    },
    "kernelspec": {
      "display_name": "Python 3 (ipykernel)",
      "language": "python",
      "name": "python3"
    },
    "language_info": {
      "codemirror_mode": {
        "name": "ipython",
        "version": 3
      },
      "file_extension": ".py",
      "mimetype": "text/x-python",
      "name": "python",
      "nbconvert_exporter": "python",
      "pygments_lexer": "ipython3",
      "version": "3.11.5"
    }
  },
  "nbformat": 4,
  "nbformat_minor": 0
}
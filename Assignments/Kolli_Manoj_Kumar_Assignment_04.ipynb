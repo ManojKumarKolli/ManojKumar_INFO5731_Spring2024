{
  "cells": [
    {
      "cell_type": "markdown",
      "metadata": {
        "id": "view-in-github",
        "colab_type": "text"
      },
      "source": [
        "<a href=\"https://colab.research.google.com/github/ManojKumarKolli/ManojKumar_INFO5731_Spring2024/blob/main/Assignments/Kolli_Manoj_Kumar_Assignment_04.ipynb\" target=\"_parent\"><img src=\"https://colab.research.google.com/assets/colab-badge.svg\" alt=\"Open In Colab\"/></a>"
      ]
    },
    {
      "cell_type": "markdown",
      "metadata": {
        "id": "USSdXHuqnwv9"
      },
      "source": [
        "# **INFO5731 Assignment Four**\n",
        "\n",
        "In this assignment, you are required to conduct topic modeling, sentiment analysis based on **the dataset you created from assignment three**."
      ]
    },
    {
      "cell_type": "markdown",
      "metadata": {
        "id": "YWxodXh5n4xF"
      },
      "source": [
        "# **Question 1: Topic Modeling**"
      ]
    },
    {
      "cell_type": "markdown",
      "metadata": {
        "id": "TenBkDJ5n95k"
      },
      "source": [
        "(30 points). This question is designed to help you develop a feel for the way topic modeling works, the connection to the human meanings of documents. Based on the dataset from assignment three, write a python program to **identify the top 10 topics in the dataset**. Before answering this question, please review the materials in lesson 8, especially the code for LDA, LSA, and BERTopic. The following information should be reported:\n",
        "\n",
        "1. Features (text representation) used for topic modeling.\n",
        "\n",
        "2. Top 10 clusters for topic modeling.\n",
        "\n",
        "3. Summarize and describe the topic for each cluster.\n"
      ]
    },
    {
      "cell_type": "code",
      "source": [
        "from google.colab import drive\n",
        "drive.mount('/content/drive')"
      ],
      "metadata": {
        "colab": {
          "base_uri": "https://localhost:8080/"
        },
        "id": "GsR_wTApkG9W",
        "outputId": "db679191-3546-48c3-d4a0-d2d783b96bf2"
      },
      "execution_count": null,
      "outputs": [
        {
          "output_type": "stream",
          "name": "stdout",
          "text": [
            "Drive already mounted at /content/drive; to attempt to forcibly remount, call drive.mount(\"/content/drive\", force_remount=True).\n"
          ]
        }
      ]
    },
    {
      "cell_type": "code",
      "execution_count": null,
      "metadata": {
        "id": "PuFPKhC0m1fd"
      },
      "outputs": [],
      "source": [
        "# Write your code here\n",
        "import pandas as pd\n",
        "from sklearn.feature_extraction.text import CountVectorizer\n",
        "from sklearn.decomposition import LatentDirichletAllocation\n",
        "\n",
        "# Load the dataset\n",
        "imdb_data = pd.read_csv('/content/drive/MyDrive/5731/imdb_reviews_sentiment.csv')\n",
        "\n",
        "# Question 1: Features used for topic modeling\n",
        "# Using CountVectorizer for text representation\n",
        "count_vectorizer = CountVectorizer(stop_words='english', max_df=0.95, min_df=2, max_features=1000)\n",
        "doc_term_matrix = count_vectorizer.fit_transform(imdb_data['clean_text'])\n",
        "\n",
        "# Perform LDA for topic modeling\n",
        "lda_model = LatentDirichletAllocation(n_components=10, random_state=0)\n",
        "lda_model.fit(doc_term_matrix)\n",
        "\n",
        "# Function to display the top words in each topic\n",
        "def display_topics(model, feature_names, no_top_words):\n",
        "    topic_descriptions = {}\n",
        "    for topic_idx, topic in enumerate(model.components_):\n",
        "        topic_words = \", \".join([feature_names[i] for i in topic.argsort()[:-no_top_words - 1:-1]])\n",
        "        topic_descriptions[f\"Topic {topic_idx + 1}\"] = topic_words\n",
        "    return topic_descriptions"
      ]
    },
    {
      "cell_type": "code",
      "source": [
        "# Answer to Question 2: Top 10 clusters\n",
        "top_words_per_topic = display_topics(lda_model, count_vectorizer.get_feature_names_out(), 10)\n",
        "print(\"\\nQuestion 2: Top 10 clusters for topic modeling:\")\n",
        "for topic, words in top_words_per_topic.items():\n",
        "    print(f\"{topic}: {words}\")"
      ],
      "metadata": {
        "colab": {
          "base_uri": "https://localhost:8080/"
        },
        "id": "MSIy1TD0mf7Y",
        "outputId": "4a8575bd-f033-4f3f-e5ff-d31afc4283ec"
      },
      "execution_count": null,
      "outputs": [
        {
          "output_type": "stream",
          "name": "stdout",
          "text": [
            "\n",
            "Question 2: Top 10 clusters for topic modeling:\n",
            "Topic 1: film, movi, charact, endgam, marvel, mcu, like, aveng, year, infin\n",
            "Topic 2: movi, watch, marvel, love, fan, realli, time, good, hour, end\n",
            "Topic 3: aveng, film, endgam, charact, marvel, thano, infin, univers, captain, man\n",
            "Topic 4: infin, end, war, time, charact, movi, act, like, film, slow\n",
            "Topic 5: movi, watch, emot, dont, like, good, end, cri, great, action\n",
            "Topic 6: movi, infin, war, like, time, end, good, charact, plot, way\n",
            "Topic 7: plot, hole, aveng, movi, endgam, futur, rate, time, entertain, past\n",
            "Topic 8: end, movi, charact, time, thor, perfect, hulk, iron, mani, like\n",
            "Topic 9: movi, best, epic, year, endgam, superhero, aveng, conclus, like, end\n",
            "Topic 10: movi, watch, marvel, film, end, best, time, war, infin, mcu\n"
          ]
        }
      ]
    },
    {
      "cell_type": "markdown",
      "source": [
        "# Answer to Question 3: Describe each cluster\n",
        "\n",
        "Topic 1:\n",
        "\n",
        "Key Words: film, movie, character, Endgame, Marvel, MCU, like, Avengers, year, Infinity\n",
        "Description: This topic likely covers reviews that focus on character development and overarching plot elements within Marvel movies, particularly \"Endgame\" and \"Infinity War,\" discussing aspects like film quality and impact over the years.\n",
        "\n",
        "Topic 2:\n",
        "\n",
        "Key Words: movie, watch, Marvel, love, fan, really, time, good, hour, end\n",
        "Description: Enthusiastic and emotional reactions from fans who deeply enjoy Marvel films, emphasizing the enjoyment and engagement throughout the movies' runtime.\n",
        "\n",
        "Topic 3:\n",
        "\n",
        "Key Words: Avengers, film, Endgame, character, Marvel, Thanos, Infinity, universe, Captain, man\n",
        "Description: Discussions centered around \"Avengers: Endgame\" and key characters such as Thanos and Captain America, focusing on their roles within the expansive Marvel Universe.\n",
        "\n",
        "Topic 4:\n",
        "\n",
        "Key Words: Infinity, end, war, time, character, movie, act, like, film, slow\n",
        "Description: Critical reviews possibly addressing the pacing (\"slow\") and the narrative structure of \"Infinity War,\" discussing how the movie handles its climax and key character arcs.\n",
        "\n",
        "Topic 5:\n",
        "\n",
        "Key Words: movie, watch, emotional, don’t, like, good, end, cry, great, action\n",
        "Description: Emotional and impactful reviews highlighting movies that evoke strong feelings, from tears to excitement, likely focusing on dramatic and action-packed scenes.\n",
        "\n",
        "Topic 6:\n",
        "\n",
        "Key Words: movie, Infinity, war, like, time, end, good, character, plot, way\n",
        "Description: Analyzes the storytelling and plot elements of \"Infinity War,\" focusing on how well the plot was executed and its impact on the characters' development.\n",
        "\n",
        "Topic 7:\n",
        "\n",
        "Key Words: plot, hole, Avengers, movie, Endgame, future, rate, time, entertaining, past\n",
        "Description: Reviews that critique the logical consistency and plot integrity of \"Endgame,\" discussing how it handles themes of time and how entertaining it remains despite plot holes.\n",
        "\n",
        "Topic 8:\n",
        "\n",
        "Key Words: end, movie, character, time, Thor, perfect, Hulk, iron, many, like\n",
        "Description: Discusses the resolution and development of specific characters such as Thor and Hulk, focusing on their journeys and the satisfactory conclusion of their arcs.\n",
        "\n",
        "Topic 9:\n",
        "\n",
        "Key Words: movie, best, epic, year, Endgame, superhero, Avengers, conclusion, like, end\n",
        "Description: High praise for \"Endgame\" as a monumental and epic conclusion to the Avengers saga, often cited as one of the best superhero movies of the year.\n",
        "\n",
        "Topic 10:\n",
        "\n",
        "Key Words: movie, watch, Marvel, film, end, best, time, war, Infinity, MCU\n",
        "Description: General reviews that appreciate the cinematic craftsmanship and storytelling of Marvel movies, particularly highlighting their role within the broader Marvel Cinematic Universe."
      ],
      "metadata": {
        "id": "EahIKp53na5v"
      }
    },
    {
      "cell_type": "markdown",
      "metadata": {
        "id": "AfpMRCrRwN6Z"
      },
      "source": [
        "# **Question 2: Sentiment Analysis**"
      ]
    },
    {
      "cell_type": "markdown",
      "metadata": {
        "id": "1dCQEbDawWCw"
      },
      "source": [
        "(30 points). Sentiment analysis also known as opinion mining is a sub field within Natural Language Processing (NLP) that builds machine learning algorithms to classify a text according to the sentimental polarities of opinions it contains, e.g., positive, negative, neutral. The purpose of this question is to develop a machine learning classifier for sentiment analysis. Based on the dataset from assignment three, write a python program to implement a sentiment classifier and evaluate its performance. Notice: **80% data for training and 20% data for testing**.  \n",
        "\n",
        "1. Select features for the sentiment classification and explain why you select these features. Use a markdown cell to provide your explanation.\n",
        "\n",
        "2. Select two of the supervised learning algorithms/models from scikit-learn library: https://scikit-learn.org/stable/supervised_learning.html#supervised-learning, to build two sentiment classifiers respectively. Note: Cross-validation (5-fold or 10-fold) should be conducted. Here is the reference of cross-validation: https://scikit-learn.org/stable/modules/cross_validation.html.\n",
        "\n",
        "3. Compare the performance over accuracy, precision, recall, and F1 score for the two algorithms you selected. The test set must be used for model evaluation in this step. Here is the reference of how to calculate these metrics: https://towardsdatascience.com/accuracy-precision-recall-or-f1-331fb37c5cb9."
      ]
    },
    {
      "cell_type": "markdown",
      "source": [
        "\n",
        "### Feature Selection for Sentiment Classification\n",
        "\n",
        "For sentiment classification, **TF-IDF (Term Frequency-Inverse Document Frequency)** is chosen because it effectively captures the importance of words in documents. Here’s why it's suitable:\n",
        "\n",
        "- **Term Frequency (TF)** highlights words that are frequent in a specific document, which can indicate sentiment.\n",
        "- **Inverse Document Frequency (IDF)** diminishes the weight of words that appear too frequently across all documents, helping to filter out common but uninformative words.\n",
        "\n",
        "**TF-IDF** combines these two metrics, ensuring that words which are critical for understanding the sentiment of a document are given higher importance. This approach helps in emphasizing words that are pivotal in expressing sentiments, making it an ideal choice for sentiment analysis."
      ],
      "metadata": {
        "id": "HqqGP8cJqpaI"
      }
    },
    {
      "cell_type": "code",
      "execution_count": null,
      "metadata": {
        "id": "vATjQNTY8buA",
        "colab": {
          "base_uri": "https://localhost:8080/"
        },
        "outputId": "d9ed805f-b322-442b-e456-f7afa20a36fb"
      },
      "outputs": [
        {
          "output_type": "stream",
          "name": "stdout",
          "text": [
            "Logistic Regression - Accuracy: 0.895, Precision: 0.6307692307692307, Recall: 0.4090909090909091, F1: 0.43781993375489314\n",
            "Naive Bayes - Accuracy: 0.87, Precision: 0.29, Recall: 0.3333333333333333, F1: 0.3101604278074866\n"
          ]
        },
        {
          "output_type": "stream",
          "name": "stderr",
          "text": [
            "/usr/local/lib/python3.10/dist-packages/sklearn/metrics/_classification.py:1344: UndefinedMetricWarning: Precision is ill-defined and being set to 0.0 in labels with no predicted samples. Use `zero_division` parameter to control this behavior.\n",
            "  _warn_prf(average, modifier, msg_start, len(result))\n",
            "/usr/local/lib/python3.10/dist-packages/sklearn/metrics/_classification.py:1344: UndefinedMetricWarning: Precision is ill-defined and being set to 0.0 in labels with no predicted samples. Use `zero_division` parameter to control this behavior.\n",
            "  _warn_prf(average, modifier, msg_start, len(result))\n"
          ]
        }
      ],
      "source": [
        "# Write your code here\n",
        "\n",
        "import pandas as pd\n",
        "from sklearn.model_selection import train_test_split, cross_val_score\n",
        "from sklearn.feature_extraction.text import TfidfVectorizer\n",
        "from sklearn.linear_model import LogisticRegression\n",
        "from sklearn.naive_bayes import MultinomialNB\n",
        "from sklearn.metrics import accuracy_score, precision_score, recall_score, f1_score\n",
        "from sklearn.pipeline import make_pipeline\n",
        "\n",
        "# Load the dataset\n",
        "# data = pd.read_csv('/path/to/imdb_reviews_sentiment.csv')\n",
        "\n",
        "# Split the data into training and testing sets\n",
        "X_train, X_test, y_train, y_test = train_test_split(imdb_data['clean_text'], imdb_data['sentiment'], test_size=0.2, random_state=42)\n",
        "\n",
        "# Question 1: Select features for sentiment classification\n",
        "# Define a TF-IDF Vectorizer\n",
        "tfidf_vectorizer = TfidfVectorizer(stop_words='english', max_df=0.7)\n",
        "\n",
        "# Question 2: Build two sentiment classifiers\n",
        "# We'll use Logistic Regression and Multinomial Naive Bayes for this task.\n",
        "\n",
        "# Create pipelines for both classifiers\n",
        "logistic_pipeline = make_pipeline(tfidf_vectorizer, LogisticRegression(random_state=0))\n",
        "nb_pipeline = make_pipeline(tfidf_vectorizer, MultinomialNB())\n",
        "\n",
        "# Perform cross-validation\n",
        "logistic_cv_scores = cross_val_score(logistic_pipeline, X_train, y_train, cv=5)\n",
        "nb_cv_scores = cross_val_score(nb_pipeline, X_train, y_train, cv=5)\n",
        "\n",
        "# Train the models on the training data\n",
        "logistic_pipeline.fit(X_train, y_train)\n",
        "nb_pipeline.fit(X_train, y_train)\n",
        "\n",
        "# Question 3: Compare the performance\n",
        "# Use the trained models to make predictions on the test set\n",
        "logistic_predictions = logistic_pipeline.predict(X_test)\n",
        "nb_predictions = nb_pipeline.predict(X_test)\n",
        "\n",
        "# Calculate metrics for Logistic Regression\n",
        "logistic_accuracy = accuracy_score(y_test, logistic_predictions)\n",
        "logistic_precision = precision_score(y_test, logistic_predictions, average='macro')\n",
        "logistic_recall = recall_score(y_test, logistic_predictions, average='macro')\n",
        "logistic_f1 = f1_score(y_test, logistic_predictions, average='macro')\n",
        "\n",
        "# Calculate metrics for Naive Bayes\n",
        "nb_accuracy = accuracy_score(y_test, nb_predictions)\n",
        "nb_precision = precision_score(y_test, nb_predictions, average='macro')\n",
        "nb_recall = recall_score(y_test, nb_predictions, average='macro')\n",
        "nb_f1 = f1_score(y_test, nb_predictions, average='macro')\n",
        "\n",
        "# Print results\n",
        "print(f\"Logistic Regression - Accuracy: {logistic_accuracy}, Precision: {logistic_precision}, Recall: {logistic_recall}, F1: {logistic_f1}\")\n",
        "print(f\"Naive Bayes - Accuracy: {nb_accuracy}, Precision: {nb_precision}, Recall: {nb_recall}, F1: {nb_f1}\")\n",
        "\n",
        "\n"
      ]
    },
    {
      "cell_type": "markdown",
      "metadata": {
        "id": "E5mmYIfN8eYV"
      },
      "source": [
        "# **Question 3: House price prediction**"
      ]
    },
    {
      "cell_type": "markdown",
      "metadata": {
        "id": "hsi2y4z88ngX"
      },
      "source": [
        "(20 points). You are required to build a **regression** model to predict the house price with 79 explanatory variables describing (almost) every aspect of residential homes. The purpose of this question is to practice regression analysis, an supervised learning model. The training data, testing data, and data description files can be download from canvas. Here is an axample for implementation: https://towardsdatascience.com/linear-regression-in-python-predict-the-bay-areas-home-price-5c91c8378878.\n",
        "\n",
        "1. Conduct necessary Explatory Data Analysis (EDA) and data cleaning steps on the given dataset. Split data for training and testing.\n",
        "2. Based on the EDA results, select a number of features for the regression model. Shortly explain why you select those features.\n",
        "3. Develop a regression model. The train set should be used.\n",
        "4. Evaluate performance of the regression model you developed using appropriate evaluation metrics. The test set should be used."
      ]
    },
    {
      "cell_type": "code",
      "execution_count": null,
      "metadata": {
        "id": "XfvMKJjIXS5G",
        "colab": {
          "base_uri": "https://localhost:8080/",
          "height": 1000
        },
        "outputId": "c1969d75-e6fa-4242-b93a-b0edef8a99be"
      },
      "outputs": [
        {
          "output_type": "stream",
          "name": "stdout",
          "text": [
            "\n",
            "\n",
            "Missing Values in dataset:\n",
            "Id                 0\n",
            "MSSubClass         0\n",
            "MSZoning           0\n",
            "LotFrontage      259\n",
            "LotArea            0\n",
            "                ... \n",
            "MoSold             0\n",
            "YrSold             0\n",
            "SaleType           0\n",
            "SaleCondition      0\n",
            "SalePrice          0\n",
            "Length: 81, dtype: int64\n",
            "Id                 0\n",
            "MSSubClass         0\n",
            "MSZoning           4\n",
            "LotFrontage      227\n",
            "LotArea            0\n",
            "                ... \n",
            "MiscVal            0\n",
            "MoSold             0\n",
            "YrSold             0\n",
            "SaleType           1\n",
            "SaleCondition      0\n",
            "Length: 80, dtype: int64\n",
            "\n",
            "\n",
            "Dataset INFO:\n",
            "<class 'pandas.core.frame.DataFrame'>\n",
            "RangeIndex: 1460 entries, 0 to 1459\n",
            "Data columns (total 81 columns):\n",
            " #   Column         Non-Null Count  Dtype  \n",
            "---  ------         --------------  -----  \n",
            " 0   Id             1460 non-null   int64  \n",
            " 1   MSSubClass     1460 non-null   int64  \n",
            " 2   MSZoning       1460 non-null   object \n",
            " 3   LotFrontage    1201 non-null   float64\n",
            " 4   LotArea        1460 non-null   int64  \n",
            " 5   Street         1460 non-null   object \n",
            " 6   Alley          91 non-null     object \n",
            " 7   LotShape       1460 non-null   object \n",
            " 8   LandContour    1460 non-null   object \n",
            " 9   Utilities      1460 non-null   object \n",
            " 10  LotConfig      1460 non-null   object \n",
            " 11  LandSlope      1460 non-null   object \n",
            " 12  Neighborhood   1460 non-null   object \n",
            " 13  Condition1     1460 non-null   object \n",
            " 14  Condition2     1460 non-null   object \n",
            " 15  BldgType       1460 non-null   object \n",
            " 16  HouseStyle     1460 non-null   object \n",
            " 17  OverallQual    1460 non-null   int64  \n",
            " 18  OverallCond    1460 non-null   int64  \n",
            " 19  YearBuilt      1460 non-null   int64  \n",
            " 20  YearRemodAdd   1460 non-null   int64  \n",
            " 21  RoofStyle      1460 non-null   object \n",
            " 22  RoofMatl       1460 non-null   object \n",
            " 23  Exterior1st    1460 non-null   object \n",
            " 24  Exterior2nd    1460 non-null   object \n",
            " 25  MasVnrType     588 non-null    object \n",
            " 26  MasVnrArea     1452 non-null   float64\n",
            " 27  ExterQual      1460 non-null   object \n",
            " 28  ExterCond      1460 non-null   object \n",
            " 29  Foundation     1460 non-null   object \n",
            " 30  BsmtQual       1423 non-null   object \n",
            " 31  BsmtCond       1423 non-null   object \n",
            " 32  BsmtExposure   1422 non-null   object \n",
            " 33  BsmtFinType1   1423 non-null   object \n",
            " 34  BsmtFinSF1     1460 non-null   int64  \n",
            " 35  BsmtFinType2   1422 non-null   object \n",
            " 36  BsmtFinSF2     1460 non-null   int64  \n",
            " 37  BsmtUnfSF      1460 non-null   int64  \n",
            " 38  TotalBsmtSF    1460 non-null   int64  \n",
            " 39  Heating        1460 non-null   object \n",
            " 40  HeatingQC      1460 non-null   object \n",
            " 41  CentralAir     1460 non-null   object \n",
            " 42  Electrical     1459 non-null   object \n",
            " 43  1stFlrSF       1460 non-null   int64  \n",
            " 44  2ndFlrSF       1460 non-null   int64  \n",
            " 45  LowQualFinSF   1460 non-null   int64  \n",
            " 46  GrLivArea      1460 non-null   int64  \n",
            " 47  BsmtFullBath   1460 non-null   int64  \n",
            " 48  BsmtHalfBath   1460 non-null   int64  \n",
            " 49  FullBath       1460 non-null   int64  \n",
            " 50  HalfBath       1460 non-null   int64  \n",
            " 51  BedroomAbvGr   1460 non-null   int64  \n",
            " 52  KitchenAbvGr   1460 non-null   int64  \n",
            " 53  KitchenQual    1460 non-null   object \n",
            " 54  TotRmsAbvGrd   1460 non-null   int64  \n",
            " 55  Functional     1460 non-null   object \n",
            " 56  Fireplaces     1460 non-null   int64  \n",
            " 57  FireplaceQu    770 non-null    object \n",
            " 58  GarageType     1379 non-null   object \n",
            " 59  GarageYrBlt    1379 non-null   float64\n",
            " 60  GarageFinish   1379 non-null   object \n",
            " 61  GarageCars     1460 non-null   int64  \n",
            " 62  GarageArea     1460 non-null   int64  \n",
            " 63  GarageQual     1379 non-null   object \n",
            " 64  GarageCond     1379 non-null   object \n",
            " 65  PavedDrive     1460 non-null   object \n",
            " 66  WoodDeckSF     1460 non-null   int64  \n",
            " 67  OpenPorchSF    1460 non-null   int64  \n",
            " 68  EnclosedPorch  1460 non-null   int64  \n",
            " 69  3SsnPorch      1460 non-null   int64  \n",
            " 70  ScreenPorch    1460 non-null   int64  \n",
            " 71  PoolArea       1460 non-null   int64  \n",
            " 72  PoolQC         7 non-null      object \n",
            " 73  Fence          281 non-null    object \n",
            " 74  MiscFeature    54 non-null     object \n",
            " 75  MiscVal        1460 non-null   int64  \n",
            " 76  MoSold         1460 non-null   int64  \n",
            " 77  YrSold         1460 non-null   int64  \n",
            " 78  SaleType       1460 non-null   object \n",
            " 79  SaleCondition  1460 non-null   object \n",
            " 80  SalePrice      1460 non-null   int64  \n",
            "dtypes: float64(3), int64(35), object(43)\n",
            "memory usage: 924.0+ KB\n",
            "None\n",
            "<class 'pandas.core.frame.DataFrame'>\n",
            "RangeIndex: 1459 entries, 0 to 1458\n",
            "Data columns (total 80 columns):\n",
            " #   Column         Non-Null Count  Dtype  \n",
            "---  ------         --------------  -----  \n",
            " 0   Id             1459 non-null   int64  \n",
            " 1   MSSubClass     1459 non-null   int64  \n",
            " 2   MSZoning       1455 non-null   object \n",
            " 3   LotFrontage    1232 non-null   float64\n",
            " 4   LotArea        1459 non-null   int64  \n",
            " 5   Street         1459 non-null   object \n",
            " 6   Alley          107 non-null    object \n",
            " 7   LotShape       1459 non-null   object \n",
            " 8   LandContour    1459 non-null   object \n",
            " 9   Utilities      1457 non-null   object \n",
            " 10  LotConfig      1459 non-null   object \n",
            " 11  LandSlope      1459 non-null   object \n",
            " 12  Neighborhood   1459 non-null   object \n",
            " 13  Condition1     1459 non-null   object \n",
            " 14  Condition2     1459 non-null   object \n",
            " 15  BldgType       1459 non-null   object \n",
            " 16  HouseStyle     1459 non-null   object \n",
            " 17  OverallQual    1459 non-null   int64  \n",
            " 18  OverallCond    1459 non-null   int64  \n",
            " 19  YearBuilt      1459 non-null   int64  \n",
            " 20  YearRemodAdd   1459 non-null   int64  \n",
            " 21  RoofStyle      1459 non-null   object \n",
            " 22  RoofMatl       1459 non-null   object \n",
            " 23  Exterior1st    1458 non-null   object \n",
            " 24  Exterior2nd    1458 non-null   object \n",
            " 25  MasVnrType     565 non-null    object \n",
            " 26  MasVnrArea     1444 non-null   float64\n",
            " 27  ExterQual      1459 non-null   object \n",
            " 28  ExterCond      1459 non-null   object \n",
            " 29  Foundation     1459 non-null   object \n",
            " 30  BsmtQual       1415 non-null   object \n",
            " 31  BsmtCond       1414 non-null   object \n",
            " 32  BsmtExposure   1415 non-null   object \n",
            " 33  BsmtFinType1   1417 non-null   object \n",
            " 34  BsmtFinSF1     1458 non-null   float64\n",
            " 35  BsmtFinType2   1417 non-null   object \n",
            " 36  BsmtFinSF2     1458 non-null   float64\n",
            " 37  BsmtUnfSF      1458 non-null   float64\n",
            " 38  TotalBsmtSF    1458 non-null   float64\n",
            " 39  Heating        1459 non-null   object \n",
            " 40  HeatingQC      1459 non-null   object \n",
            " 41  CentralAir     1459 non-null   object \n",
            " 42  Electrical     1459 non-null   object \n",
            " 43  1stFlrSF       1459 non-null   int64  \n",
            " 44  2ndFlrSF       1459 non-null   int64  \n",
            " 45  LowQualFinSF   1459 non-null   int64  \n",
            " 46  GrLivArea      1459 non-null   int64  \n",
            " 47  BsmtFullBath   1457 non-null   float64\n",
            " 48  BsmtHalfBath   1457 non-null   float64\n",
            " 49  FullBath       1459 non-null   int64  \n",
            " 50  HalfBath       1459 non-null   int64  \n",
            " 51  BedroomAbvGr   1459 non-null   int64  \n",
            " 52  KitchenAbvGr   1459 non-null   int64  \n",
            " 53  KitchenQual    1458 non-null   object \n",
            " 54  TotRmsAbvGrd   1459 non-null   int64  \n",
            " 55  Functional     1457 non-null   object \n",
            " 56  Fireplaces     1459 non-null   int64  \n",
            " 57  FireplaceQu    729 non-null    object \n",
            " 58  GarageType     1383 non-null   object \n",
            " 59  GarageYrBlt    1381 non-null   float64\n",
            " 60  GarageFinish   1381 non-null   object \n",
            " 61  GarageCars     1458 non-null   float64\n",
            " 62  GarageArea     1458 non-null   float64\n",
            " 63  GarageQual     1381 non-null   object \n",
            " 64  GarageCond     1381 non-null   object \n",
            " 65  PavedDrive     1459 non-null   object \n",
            " 66  WoodDeckSF     1459 non-null   int64  \n",
            " 67  OpenPorchSF    1459 non-null   int64  \n",
            " 68  EnclosedPorch  1459 non-null   int64  \n",
            " 69  3SsnPorch      1459 non-null   int64  \n",
            " 70  ScreenPorch    1459 non-null   int64  \n",
            " 71  PoolArea       1459 non-null   int64  \n",
            " 72  PoolQC         3 non-null      object \n",
            " 73  Fence          290 non-null    object \n",
            " 74  MiscFeature    51 non-null     object \n",
            " 75  MiscVal        1459 non-null   int64  \n",
            " 76  MoSold         1459 non-null   int64  \n",
            " 77  YrSold         1459 non-null   int64  \n",
            " 78  SaleType       1458 non-null   object \n",
            " 79  SaleCondition  1459 non-null   object \n",
            "dtypes: float64(11), int64(26), object(43)\n",
            "memory usage: 912.0+ KB\n",
            "None\n"
          ]
        },
        {
          "output_type": "display_data",
          "data": {
            "text/plain": [
              "<Figure size 1000x1000 with 2 Axes>"
            ],
            "image/png": "[encoded data removed]"
          },
          "metadata": {}
        },
        {
          "output_type": "stream",
          "name": "stdout",
          "text": [
            "Selected Features Based on Correlation: ['SalePrice', 'OverallQual', 'GrLivArea', 'GarageCars', 'GarageArea', 'TotalBsmtSF', '1stFlrSF', 'FullBath', 'BsmtQual_Ex', 'TotRmsAbvGrd', 'YearBuilt', 'YearRemodAdd', 'KitchenQual_Ex', 'GarageFinish_Unf', 'KitchenQual_TA', 'ExterQual_TA']\n",
            "R-squared: 0.8281879535831652\n"
          ]
        }
      ],
      "source": [
        "# Write your code here\n",
        "import pandas as pd\n",
        "import seaborn as sns\n",
        "import matplotlib.pyplot as plt\n",
        "from sklearn.model_selection import train_test_split\n",
        "from sklearn.linear_model import LinearRegression\n",
        "from sklearn.metrics import mean_squared_error, r2_score\n",
        "\n",
        "train_df = pd.read_csv(\"/content/drive/MyDrive/5731/train.csv\")\n",
        "test_df = pd.read_csv(\"/content/drive/MyDrive/5731/test.csv\")\n",
        "\n",
        "\n",
        "# 1. Conduct necessary Explatory Data Analysis (EDA) and data cleaning steps on the given dataset. Split data for training and testing.\n",
        "print(\"\\n\\nMissing Values in dataset:\")\n",
        "print(train_df.isnull().sum())\n",
        "print(test_df.isnull().sum())\n",
        "\n",
        "print(\"\\n\\nDataset INFO:\")\n",
        "print(train_df.info())\n",
        "print(test_df.info())\n",
        "\n",
        "\n",
        "# Removing rows where the target variable (SalePrice) is missing in the training data\n",
        "train_df = train_df.dropna(subset=['SalePrice'])\n",
        "\n",
        "# Filling missing values\n",
        "for column in train_df.columns:\n",
        "    if train_df[column].dtype == 'object':\n",
        "        train_df[column] = train_df[column].fillna(train_df[column].mode()[0])\n",
        "    else:\n",
        "        train_df[column] = train_df[column].fillna(train_df[column].median())\n",
        "\n",
        "# Applying the same transformations to the test dataset\n",
        "for column in test_df.columns:\n",
        "    if test_df[column].dtype == 'object':\n",
        "        test_df[column] = test_df[column].fillna(train_df[column].mode()[0])\n",
        "    else:\n",
        "        test_df[column] = test_df[column].fillna(train_df[column].median())\n",
        "\n",
        "# Encoding categorical variables\n",
        "train_df = pd.get_dummies(train_df)\n",
        "test_df = pd.get_dummies(test_df)\n",
        "\n",
        "\n",
        "# Splitting train_df into train and validation sets\n",
        "X = train_df.drop(['SalePrice'], axis=1)\n",
        "y = train_df['SalePrice']\n",
        "X_train, X_val, y_train, y_val = train_test_split(X, y, test_size=0.2, random_state=42)\n",
        "\n",
        "# Compute the correlation matrix\n",
        "correlation_matrix = train_df.corr()\n",
        "\n",
        "# Selecting the correlation of features with the target variable 'SalePrice'\n",
        "target_correlation = correlation_matrix['SalePrice'].sort_values(ascending=False)\n",
        "\n",
        "# Plotting top and bottom 10 features correlated with SalePrice\n",
        "plt.figure(figsize=(10, 10))\n",
        "\n",
        "# Top 10 positively correlated features\n",
        "top_corr_features = target_correlation.head(10)  # Top 10 features\n",
        "plt.subplot(2, 1, 1)  # 2 rows, 1 column, 1st subplot\n",
        "sns.barplot(x=top_corr_features.values, y=top_corr_features.index)\n",
        "plt.title('Top 10 Positively Correlated Features with SalePrice')\n",
        "\n",
        "# Top 10 negatively correlated features\n",
        "bottom_corr_features = target_correlation.tail(10)  # Bottom 10 features (most negative)\n",
        "plt.subplot(2, 1, 2)  # 2 rows, 1 column, 2nd subplot\n",
        "sns.barplot(x=bottom_corr_features.values, y=bottom_corr_features.index)\n",
        "plt.title('Top 10 Negatively Correlated Features with SalePrice')\n",
        "\n",
        "plt.tight_layout()\n",
        "plt.show()\n",
        "\n",
        "# Selecting features based on high absolute correlation\n",
        "selected_features = target_correlation[abs(target_correlation) > 0.5].index.tolist()\n",
        "print(\"Selected Features Based on Correlation:\", selected_features)\n",
        "\n",
        "selected_features.remove(\"SalePrice\")\n",
        "# Reduce training and validation data to selected features\n",
        "X_train = X_train[selected_features]\n",
        "X_val = X_val[selected_features]\n",
        "\n",
        "\n",
        "# Initialize and train the model using selected features\n",
        "model = LinearRegression()\n",
        "model.fit(X_train, y_train)\n",
        "\n",
        "# Predict on the validation set\n",
        "y_pred = model.predict(X_val)\n",
        "\n",
        "# Evaluate model performance\n",
        "r2 = r2_score(y_val, y_pred)\n",
        "print(\"R-squared:\", r2)\n",
        "\n",
        "\n",
        "\n"
      ]
    },
    {
      "cell_type": "markdown",
      "source": [
        "# **Question 4: Using Pre-trained LLMs**"
      ],
      "metadata": {
        "id": "K5azf6tG5vXK"
      }
    },
    {
      "cell_type": "markdown",
      "metadata": {
        "id": "xKwKTnW1EX-k"
      },
      "source": [
        "(20 points)\n",
        "Utilize a **Pre-trained Language Model (PLM) from the Hugging Face Repository** for predicting sentiment polarities on the data you collected in Assignment 3.\n",
        "\n",
        "Then, choose a relevant LLM from their repository, such as GPT-3, BERT, or RoBERTa or any other related models.\n",
        "1. (5 points) Provide a brief description of the PLM you selected, including its original pretraining data sources,  number of parameters, and any task-specific fine-tuning if applied.\n",
        "2. (10 points) Use the selected PLM to perform the sentiment analysis on the data collected in Assignment 3. Only use the model in the **zero-shot** setting, NO finetuning is required. Evaluate performance of the model by comparing with the groundtruths (labels you annotated) on Accuracy, Precision, Recall, and F1 metrics.\n",
        "3. (5 points) Discuss the advantages and disadvantages of the selected PLM, and any challenges encountered during the implementation. This will enable a comprehensive understanding of the chosen LLM's applicability and effectiveness for the given task.\n"
      ]
    },
    {
      "cell_type": "markdown",
      "source": [
        "\n",
        "\n",
        "RoBERTa (Robustly Optimized BERT Approach) is an advanced variant of BERT optimized for more robust performance. It was trained on over 160GB of text from various sources like books, websites, and CommonCrawl data, making it versatile for different NLP tasks.\n",
        "\n",
        "\n",
        "\n",
        "*   Pretraining Data: Extensive corpus from CommonCrawl News, WebText, and Wikipedia.\n",
        "*   Number of Parameters: Approximately 125 million in the roberta-base model.\n",
        "*   Fine-Tuning: No task-specific fine-tuning in this zero-shot classification setup."
      ],
      "metadata": {
        "id": "cgvcA8rwPWFs"
      }
    },
    {
      "cell_type": "code",
      "execution_count": null,
      "metadata": {
        "id": "BJgHWnOhFm-C",
        "colab": {
          "base_uri": "https://localhost:8080/"
        },
        "outputId": "abea8bc9-9131-4a11-968f-f665c506e2f3"
      },
      "outputs": [
        {
          "metadata": {
            "tags": null
          },
          "name": "stdout",
          "output_type": "stream",
          "text": [
            "   document_id                                         clean_text sentiment\n",
            "0            1  infin war amaz nope hollyweird doesnt know fin...  negative\n",
            "1            2           cant get better best mcu marvel movi imo  negative\n",
            "2            3  big fan marvel movi averag pretti dumb make se...  positive\n",
            "3            4  aveng endgam take place grave event aveng infi...  positive\n",
            "4            5  last time met knew stay past knew came futur e...  negative\n"
          ]
        },
        {
          "metadata": {
            "tags": null
          },
          "name": "stderr",
          "output_type": "stream",
          "text": [
            "Some weights of RobertaForSequenceClassification were not initialized from the model checkpoint at roberta-base and are newly initialized: ['classifier.dense.bias', 'classifier.dense.weight', 'classifier.out_proj.bias', 'classifier.out_proj.weight']\n",
            "You should probably TRAIN this model on a down-stream task to be able to use it for predictions and inference.\n",
            "Failed to determine 'entailment' label id from the label2id mapping in the model config. Setting to -1. Define a descriptive label2id mapping in the model config to ensure correct outputs.\n"
          ]
        }
      ],
      "source": [
        "# Write your code here\n",
        "\n",
        "\n",
        "import pandas as pd\n",
        "from transformers import pipeline\n",
        "\n",
        "# Load the dataset\n",
        "data = pd.read_csv('/content/drive/MyDrive/5731/imdb_reviews_sentiment.csv')\n",
        "print(data.head())\n",
        "\n",
        "# Initialize the zero-shot classification pipeline with RoBERTa\n",
        "classifier = pipeline(\"zero-shot-classification\", model=\"roberta-base\")\n",
        "\n",
        "# Define sentiment classes\n",
        "classes = ['positive', 'negative', 'neutral']\n",
        "\n",
        "# Apply the classifier to each review\n",
        "results = data['clean_text'].apply(lambda x: classifier(x, candidate_labels=classes, hypothesis_template=\"This text is {}.\"))\n",
        "\n",
        "# Extract predicted sentiment and corresponding scores\n",
        "data['predicted_sentiment'] = [result['labels'][0] for result in results]\n",
        "data['sentiment_score'] = [result['scores'][0] for result in results]\n",
        "\n"
      ]
    },
    {
      "cell_type": "code",
      "source": [
        "from sklearn.metrics import accuracy_score, precision_score, recall_score, f1_score\n",
        "\n",
        "# Calculate metrics using 'weighted' average to account for label imbalance\n",
        "accuracy = accuracy_score(data['sentiment'], data['predicted_sentiment'])\n",
        "precision = precision_score(data['sentiment'], data['predicted_sentiment'], average='weighted')\n",
        "recall = recall_score(data['sentiment'], data['predicted_sentiment'], average='weighted')\n",
        "f1 = f1_score(data['sentiment'], data['predicted_sentiment'], average='weighted')\n",
        "\n",
        "print(f\"Accuracy: {accuracy}\\nWeighted Precision: {precision}\\nWeighted Recall: {recall}\\nWeighted F1 Score: {f1}\")\n"
      ],
      "metadata": {
        "colab": {
          "base_uri": "https://localhost:8080/"
        },
        "id": "8yD2bf6uIF8B",
        "outputId": "8a891050-2b3b-4f44-df46-201b992d539d"
      },
      "execution_count": null,
      "outputs": [
        {
          "metadata": {
            "tags": null
          },
          "name": "stdout",
          "output_type": "stream",
          "text": [
            "Accuracy: 0.26126126126126126\n",
            "Weighted Precision: 0.6359637087484105\n",
            "Weighted Recall: 0.26126126126126126\n",
            "Weighted F1 Score: 0.3120930047683295\n"
          ]
        }
      ]
    },
    {
      "cell_type": "markdown",
      "source": [
        "The sentiment analysis showed moderate precision but lower accuracy and recall:\n",
        "\n",
        "\n",
        "\n",
        "*   Accuracy: 0.261\n",
        "*   Weighted Precision: 0.636\n",
        "*   Weighted Recall: 0.261\n",
        "*   Weighted F1 Score: 0.312\n",
        "\n",
        "\n",
        "\n",
        "Advantages and Disadvantages\n",
        "Advantages:\n",
        "*   Versatility: Effective across various NLP tasks due to extensive pre-training.\n",
        "*   Optimization: Enhancements over BERT include longer training with more data.\n",
        "\n",
        "Disadvantages:\n",
        "\n",
        "*   Resource Intensive: Requires substantial computational resources, limiting accessibility.\n",
        "*   Zero-Shot Limitations: May not fully capture nuanced sentiments, particularly in specialized or imbalanced datasets.\n",
        "\n",
        "Challenges Encountered\n",
        "\n",
        "*   Handling of Neutral Sentiments: Difficulty in accurately classifying neutral sentiments, likely due to subtlety and less representation.\n",
        "*   Computational Demands: High resource requirements for running the model.\n",
        "*   Model Bias: Potential biases from training data impacting performance on diverse real-world texts.\n"
      ],
      "metadata": {
        "id": "25IIpg2dPra1"
      }
    }
  ],
  "metadata": {
    "colab": {
      "provenance": [],
      "include_colab_link": true
    },
    "kernelspec": {
      "display_name": "Python 3 (ipykernel)",
      "language": "python",
      "name": "python3"
    },
    "language_info": {
      "codemirror_mode": {
        "name": "ipython",
        "version": 3
      },
      "file_extension": ".py",
      "mimetype": "text/x-python",
      "name": "python",
      "nbconvert_exporter": "python",
      "pygments_lexer": "ipython3",
      "version": "3.9.12"
    }
  },
  "nbformat": 4,
  "nbformat_minor": 0
}